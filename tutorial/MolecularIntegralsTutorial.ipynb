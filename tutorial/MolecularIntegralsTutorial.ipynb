{
 "cells": [
  {
   "cell_type": "markdown",
   "metadata": {},
   "source": [
    "# Molecular Integrals\n",
    "\n",
    "In this tutorial we are going to see how to implement the _McMurchie-Davidson scheme_ to compute molecular integrals over _Gaussian functions_ using the [Julia programming language](https://julialang.org/).  \n",
    "We are going to closely follow Chapter 9 of the book _Molecular Electronic Structure Theory_ by _T. Helgaker et al._, although the inspiritation for this work comes from [this post](http://joshuagoings.com/2017/04/28/integrals/) and thus credits go to the author of the latter as well.\n",
    "\n",
    "In traditional quantum chemical calculations we are essentially interested in the evaluation of two classes of molecular integrals.  \n",
    "The first class consists of integrals over _one-electron operators_ $\\hat{O}(\\mathbf{r})$, such as in the case of overlap, kinetic energy and electron-nuclear Coulomb attraction integrals.  \n",
    "These integrals have the general form\n",
    "\n",
    "$$\n",
    "O_{\\mu\\nu} = \\int \\chi_{\\mu}(\\mathbf{r}) \\hat{O}(\\mathbf{r}) \\chi_{\\nu}(\\mathbf{r}) d\\mathbf{r}\n",
    "$$\n",
    "\n",
    "The second class consists of integrals over _two-electron operators_ $\\hat{O}(\\mathbf{r}_1,\\mathbf{r}_2)$, in particular the electron-electron Coulomb repulsion integral, with the general form given by\n",
    "\n",
    "$$\n",
    "O_{\\mu\\nu\\lambda\\sigma} = \\int\\int \\chi_{\\mu}(\\mathbf{r}_1)\\chi_{\\nu}(\\mathbf{r}_1)\\hat{O}(\\mathbf{r}_1,\\mathbf{r}_2)\\chi_{\\lambda}(\\mathbf{r}_2)\\chi_{\\sigma}(\\mathbf{r}_2) d\\mathbf{r}_1 d\\mathbf{r}_2\n",
    "$$\n",
    "\n",
    "In both cases, the integrals are computed over a set of known functions $\\{\\chi_{\\mu}\\}$, which are usually chosen to be linear combinations of Gaussian functions.\n",
    "This choice is arbitrary (in principle any type of function can be used), but it is motivated on a firm theoretical ground and has proven to be a very successful strategy.\n",
    "\n",
    "There are different types of Guassian functions, each featuring (slightly) different properties.\n",
    "In order to efficientely evaluate the integrals and handle them in electronic structure calculations, we shall use the form of Gaussian which is most convenient at every step of the procedure.\n",
    "\n",
    "In the following we shall use the generic term _Gaussian-type orbital (GTO)_ when talking about _a single_ Gaussian function, irrespective of its particular type: this will always be clear from the context or explicitly specified otherwise."
   ]
  },
  {
   "cell_type": "markdown",
   "metadata": {},
   "source": [
    "## Cartesian Gaussian Functions\n",
    "\n",
    "Because of their simplicity and properties, _Cartesian Gaussian functions (CGFs)_, also called _Cartesian GTOs_, are used in nearly all calculations on polyatomic systems. They are given by\n",
    "\n",
    "$$\n",
    "G_{ijk}(\\mathbf{r},\\alpha,\\mathbf{A}) = x_A^i y_A^j z_A^k e^{-\\alpha r_A^2}\n",
    "$$\n",
    "\n",
    "The position of the electron is defined relative to the nucleus centered on $\\mathbf{A}$\n",
    "\n",
    "$$\n",
    "\\mathbf{r}_A = \\mathbf{r} - \\mathbf{A}\n",
    "$$\n",
    "\n",
    "and $x_A, y_A$ and $z_A$ are the relative Cartesian components (note that **boldface** symbols represent vector quantities). The _Gaussian exponent_ $\\alpha$ is a real number greater than zero, while the _Cartesian quantum numbers_ $i,j$ and $k$ are integers greater than or equal to zero. The total angular momentum is given by the following expression\n",
    "\n",
    "$$\n",
    "l = i + j + k\n",
    "$$\n",
    "\n",
    "and the set of all possible combinations $(i,j,k)$ with total angular momentum $l$ is said constitute a _shell_.\n",
    "The number of GTOs in a shell of total angular momentum $l$ is given by\n",
    "\n",
    "$$\n",
    "N_l^c = \\frac{(l+1)(l+2)}{2}\n",
    "$$\n",
    "\n",
    "Commonly, in electronic structure calculation, one uses _spherical-harmonic Gaussian functions (SGFs)_ since their number in a given shell is always smaller than or equal to the number of CGFs ($1,3,5,7,9,\\ldots$ vs $1,3,6,10,15,\\ldots$), albeit spanning the same space.\n",
    "One therefore would preferably work with SGFs rather than CGFs so as to keep their number as small as possible. Nevertheless, contrary to SGFs, CGFs are separable in the three Cartesian components, a fact that substantailly facilitates the calculation of integrals.\n",
    "Therefore, the general approach is to evaluate molecular integrals over CGFs first, and then transform the integrals to the SGFs basis in order to decrease their total number.\n",
    "We are going to see this transformation at the very end of this tutorial.\n",
    "\n",
    "Let us start the implementation by defining an _abstract type_ representing the concept of a _basis function_"
   ]
  },
  {
   "cell_type": "code",
   "execution_count": 1,
   "metadata": {},
   "outputs": [
    {
     "data": {
      "text/plain": [
       "BasisFunction"
      ]
     },
     "execution_count": 1,
     "metadata": {},
     "output_type": "execute_result"
    }
   ],
   "source": [
    "\"\"\"Abstract type representing a basis function.\"\"\"\n",
    "abstract type BasisFunction end"
   ]
  },
  {
   "cell_type": "markdown",
   "metadata": {},
   "source": [
    "and now a concrete type representing a Cartesian GTO"
   ]
  },
  {
   "cell_type": "code",
   "execution_count": 2,
   "metadata": {},
   "outputs": [
    {
     "data": {
      "text/plain": [
       "CGF"
      ]
     },
     "execution_count": 2,
     "metadata": {},
     "output_type": "execute_result"
    }
   ],
   "source": [
    "\"\"\"Concrete type defining a Cartesian Gaussian function.\"\"\"\n",
    "struct CGF <: BasisFunction\n",
    "    A::NTuple{3,Float64}    # center of the CGF\n",
    "    α::Float64              # exponent\n",
    "    ijk::NTuple{3,Int}      # Cartesian quantum numbers\n",
    "end\n",
    "\n",
    "\n",
    "\"\"\"`CGF` constructor using a vector as the center.\"\"\"\n",
    "function CGF(A::AbstractVector{T}, α::Real, ijk::NTuple{3,Int}) where {T<:Real}\n",
    "    return CGF((A[1],A[2],A[3]),α,ijk)\n",
    "end"
   ]
  },
  {
   "cell_type": "markdown",
   "metadata": {},
   "source": [
    "Furthermore, we would like to have some getter functions to easily access the attributes of a `CGF`"
   ]
  },
  {
   "cell_type": "code",
   "execution_count": 3,
   "metadata": {},
   "outputs": [
    {
     "data": {
      "text/plain": [
       "shell (generic function with 1 method)"
      ]
     },
     "execution_count": 3,
     "metadata": {},
     "output_type": "execute_result"
    }
   ],
   "source": [
    "center(gto::CGF)   = [gto.A[1],gto.A[2],gto.A[3]]\n",
    "exponent(gto::CGF) = gto.α\n",
    "shell(gto::CGF)    = gto.ijk"
   ]
  },
  {
   "cell_type": "markdown",
   "metadata": {},
   "source": [
    "As mentioned above, CGFs may be factorized in the three Cartesian directions, i.e.\n",
    "\n",
    "$$\n",
    "G_a(\\mathbf{r},\\alpha,\\mathbf{A}) = G_{ijk}(\\mathbf{r},\\alpha,\\mathbf{A}) = G_i(x,\\alpha,A_x) G_j(y,\\alpha,A_y) G_k(z,\\alpha,A_z)\n",
    "$$\n",
    "\n",
    "where a one-dimensional component has the form\n",
    "\n",
    "$$\n",
    "G_i(x,\\alpha,A_x) = x_A^i e^{-\\alpha x_A^2}\n",
    "$$\n",
    "\n",
    "The self-overlap integral over such one-dimensional component is given by\n",
    "\n",
    "$$\n",
    "\\langle G_i|G_i \\rangle = \\frac{(2i-1)!!}{(4\\alpha)^i}\\sqrt{\\frac{\\pi}{2\\alpha}}\n",
    "$$\n",
    "\n",
    "with the double factorial function defined as follows\n",
    "\n",
    "$$\n",
    "n!! =\n",
    "\\begin{cases}\n",
    "1 & n=0 \\\\\n",
    "n(n-2)(n-4)\\cdots 2 & \\text{even } n > 0 \\\\\n",
    "n(n-2)(n-4)\\cdots 1 & \\text{odd } n > 0 \\\\\n",
    "\\frac{1}{(n+2)(n+4)\\cdots 1} & \\text{odd } n < 0\n",
    "\\end{cases}\n",
    "$$\n",
    "\n",
    "Clearly, the self-overlap integral over the three dimensions is just the multiplication of the self-overlap integral of the individual components\n",
    "\n",
    "$$\n",
    "\\begin{aligned}\n",
    "\\langle G_a|G_a \\rangle &= \\langle G_{ijk}|G_{ijk} \\rangle \\\\\n",
    "&= \\langle G_i|G_i \\rangle \\langle G_j|G_j \\rangle \\langle G_k|G_k \\rangle \\\\\n",
    "&= \\frac{(2i-1)!!(2j-1)!!(2k-1)!!}{(4\\alpha)^{i+j+k}}\\left(\\frac{\\pi}{2\\alpha}\\right)^{\\tfrac{3}{2}}\n",
    "\\end{aligned}\n",
    "$$\n",
    "\n",
    "In general, we shall always work with _unnormalized_ basis functions, nevertheless, it will be useful later on to have a function that returns the normalization factor of a GTO. This is trivially given by the inverse square root of the self-overlap. Let's see how to do that.  \n",
    "First, we define a function computing the double factorial introduced above"
   ]
  },
  {
   "cell_type": "code",
   "execution_count": 4,
   "metadata": {},
   "outputs": [
    {
     "data": {
      "text/plain": [
       "dfactorial"
      ]
     },
     "execution_count": 4,
     "metadata": {},
     "output_type": "execute_result"
    }
   ],
   "source": [
    "\"\"\"Returns the double factorial n!! of an integer number.\"\"\"\n",
    "function dfactorial(n::Int)\n",
    "    if n == 0\n",
    "        return 1.0\n",
    "    elseif iseven(n) && n > 0\n",
    "        return reduce(*,n:-2:2)[end]\n",
    "    elseif isodd(n) && n > 0\n",
    "        return reduce(*,n:-2:1)[end]\n",
    "    elseif isodd(n) && n < 0\n",
    "        return 1/reduce(*,n+2:2:1)[end]\n",
    "    else\n",
    "        error(\"n!! undefined for negative even values\")\n",
    "    end\n",
    "end"
   ]
  },
  {
   "cell_type": "markdown",
   "metadata": {},
   "source": [
    "With the help of `dfactorial`, we can now implement a function to compute the self-overlap as well as a function named `normalization` which computes the inverse square root of the overlap and returns the normalization factor of a CGF"
   ]
  },
  {
   "cell_type": "code",
   "execution_count": 5,
   "metadata": {},
   "outputs": [
    {
     "data": {
      "text/plain": [
       "normalization"
      ]
     },
     "execution_count": 5,
     "metadata": {},
     "output_type": "execute_result"
    }
   ],
   "source": [
    "\"\"\"Returns the self-overlap integral <Ga|Ga> of a `CGF` Ga.\"\"\"\n",
    "function overlap(Ga::CGF)\n",
    "    α = exponent(Ga)\n",
    "    (i,j,k) = shell(Ga)\n",
    "    num = dfactorial(2*i-1)*dfactorial(2*j-1)*dfactorial(2*k-1)\n",
    "    den = (4.0*α)^(i+j+k)\n",
    "    return ((π/(2.0*α))^1.5 * num)/den\n",
    "end\n",
    "\n",
    "\n",
    "\"\"\"Returns the normalization factor of a `CGF` Ga.\"\"\"\n",
    "function normalization(Ga::CGF)\n",
    "    α = exponent(Ga)\n",
    "    (i,j,k) = shell(Ga)\n",
    "    num = (2.0*α/π)^0.75 * (4.0*α)^((i+j+k)/2.0)\n",
    "    den = sqrt(dfactorial(2*i-1)*dfactorial(2*j-1)*dfactorial(2*k-1))\n",
    "    return num/den\n",
    "end"
   ]
  },
  {
   "cell_type": "markdown",
   "metadata": {},
   "source": [
    "### Gaussian product rule\n",
    "\n",
    "One of the main advantages of working with Gussian functions is the _Gaussian product rule_.\n",
    "The product of two spherical Gaussians centered on $\\mathbf{A}$ and $\\mathbf{B}$ may be written in terms of a single Gaussian located between the two centers, thus reducing the working complexity. This can be seen from the following expression\n",
    "\n",
    "$$\n",
    "e^{-\\alpha x_A^2} e^{-\\beta x_B^2} = e^{-\\mu X_{AB}^2} e^{-px_P^2} = K_{\\alpha\\beta}^x e^{-px_P^2}\n",
    "$$\n",
    "\n",
    "The _total exponent_ $p$ and the _reduced exponent_ $\\mu$ are given by\n",
    "\n",
    "$$\n",
    "\\begin{aligned}\n",
    "p &= \\alpha + \\beta \\\\\n",
    "\\mu &= \\frac{\\alpha\\beta}{\\alpha + \\beta}\n",
    "\\end{aligned}\n",
    "$$\n",
    "\n",
    "whereas the _centre-of-charge coordinate_ $P_x$ and the _Guassian separation_ $X_{AB}$ read\n",
    "\n",
    "$$\n",
    "\\begin{aligned}\n",
    "P_x &= \\frac{\\alpha A_x + \\beta B_x}{\\alpha + \\beta} = \\frac{\\alpha A_x + \\beta B_x}{p} \\\\\n",
    "X_{AB} &= A_x - B_x\n",
    "\\end{aligned}\n",
    "$$\n",
    "\n",
    "The _pre-exponential factor_ $K_{\\alpha\\beta}^x$ does not depend on the elctronic coordinate $x$ and it is given by\n",
    "\n",
    "$$\n",
    "K_{\\alpha\\beta}^x = e^{-\\mu X_{AB}^2}\n",
    "$$"
   ]
  },
  {
   "cell_type": "markdown",
   "metadata": {},
   "source": [
    "### Gaussian overlap distributions\n",
    "\n",
    "Combining the Gaussian product rule with the fact that Cartesian Gaussians factorize along the three directions, allows us to handle _Gaussian overlap distributions_, i.e. products of Gaussians, in a easier way.  \n",
    "We introduce now a short-hand notation for Cartesiano GTOs that we shall use throughout this tutorial\n",
    "\n",
    "$$\n",
    "\\begin{aligned}\n",
    "G_{a}(\\mathbf{r}) &= G_{ikm}(\\mathbf{r},\\alpha,\\mathbf{A}) \\\\\n",
    "G_{b}(\\mathbf{r}) &= G_{jln}(\\mathbf{r},\\beta ,\\mathbf{B})\n",
    "\\end{aligned}\n",
    "$$\n",
    "\n",
    "and we define the _Gaussian overlap distribution_ of $G_{a}(\\mathbf{r})$ and $G_{b}(\\mathbf{r})$ as\n",
    "\n",
    "$$\n",
    "\\Omega_{ab}(\\mathbf{r}) = G_{a}(\\mathbf{r})G_{b}(\\mathbf{r})\n",
    "$$\n",
    "\n",
    "The overlap distribution may be factorized along Cartesian directions as\n",
    "\n",
    "$$\n",
    "\\Omega_{ab}(\\mathbf{r}) = \\Omega_{ij}^x(x,\\alpha,\\beta,A_x,B_x) \\Omega_{kl}^y(y,\\alpha,\\beta,A_y,B_y) \\Omega_{mn}^z(z,\\alpha,\\beta,A_z,B_z)\n",
    "$$\n",
    "\n",
    "where individual components are given by\n",
    "\n",
    "$$\n",
    "\\Omega_{ij}^x(x,\\alpha,\\beta,A_x,B_x) = G_i(x,\\alpha,A_x) G_j(x,\\beta,B_x)\n",
    "$$\n",
    "\n",
    "As the last step, we may now apply the Gaussian product rule and write the overlap distribution as a single-center Gaussian function as follows\n",
    "\n",
    "$$\n",
    "\\Omega_{ij}^x = K_{\\alpha\\beta}^x x_A^i x_B^j e^{-px_P^2}\n",
    "$$\n",
    "\n",
    "which ends for the moment our discussion on Cartesian GTOs.\n",
    "\n",
    "We should point out at this stage that we have all necessary ingredients to compute simple one-electron integrals using the _Obara-Saika scheme_, however, as we are true adventurers, we shall continue to dive deeper into the topic and aim for the McMurchie-Davidson scheme, which requires another type of Gaussian functions."
   ]
  },
  {
   "cell_type": "markdown",
   "metadata": {},
   "source": [
    "## Hermite Gaussian functions\n",
    "\n",
    "_Hermite Gaussian functions_, or simply _Hermite Gaussians_, are another type of Gaussians which are very similar to Cartesian GTOs.  \n",
    "A nice property of Cartesian GTOs is that their derivatives are connected through _recurrence relations_ involving functions of different angular momenta. This will turn out to be particularly useful for two reasons. First, in the calculation of molecular properties we need to compute derivatives of the Hamiltonian and thus also of the integrals. Second, the relation between Gaussians of different angular momenta allows for the calculation of integrals over GTOs with higher angular components by reusing the integrals already computed for lower ones, thus avoiding the explicit calculations of complicated integrals.  \n",
    "Hermite Gaussians offer recurrence relations similar to those available for Cartesian GTOs, which are exploited in the McMurchie-Davidson scheme to expand Gaussian overlap distributions in one-centre Hermite Gaussians.\n",
    "\n",
    "Let us introduce the Hermite Gaussian with exponent $p$ and center $\\mathbf{P}$\n",
    "\n",
    "$$\n",
    "\\Lambda_{tuv}(\\mathbf{r},p,\\mathbf{P}) = \\left(\\frac{\\partial}{\\partial P_x}\\right)^t \\left(\\frac{\\partial}{\\partial P_y}\\right)^u \\left(\\frac{\\partial}{\\partial P_z}\\right)^v e^{-p r_P^2}\n",
    "$$\n",
    "\n",
    "where $\\mathbf{r}_P = \\mathbf{r} - \\mathbf{P}$.  \n",
    "Like for Cartesian GTOs, Hermite Gaussians are separable\n",
    "\n",
    "$$\n",
    "\\Lambda_{tuv}(\\mathbf{r},p,\\mathbf{P}) = \\Lambda_{t}(x,p,P_x) \\Lambda_{u}(y,p,P_y) \\Lambda_{v}(z,p,P_z)\n",
    "$$\n",
    "\n",
    "where the subscripts $t, u, v$ denote the degree of the polynomial factor in front of the Gaussian, as can be seen from the first expression for $\\Lambda_{tuv}$ above.  \n",
    "An important result that we are going to use later on in this tutorial is the value of the one-dimensional integral over the entire (one-dimensional) space, given by\n",
    "\n",
    "$$\n",
    "\\int \\Lambda_t dx = \\delta_{t0}\\sqrt{\\frac{\\pi}{p}}\n",
    "$$\n",
    "\n",
    "where we note that the only non-zero case is for $t = 0$ because of the presence of the Dirac delta function $\\delta_{t0}$.  \n",
    "As far as this tutorial goes, the above expression is the only relation we _explicitly_ require in order to continue with the McMurchie-Davidson scheme as presented here. However, note that many results obtained in the next sections are based on recurrence relations of Hermite Gaussians which are _not explicitly_ shown here."
   ]
  },
  {
   "cell_type": "markdown",
   "metadata": {},
   "source": [
    "## The McMurchie-Davidson scheme\n",
    "\n",
    "We shall now see how Hermite Gaussians are used within the McMurchie-Davidson scheme. Because integrals over Hermite Gaussians are so simple, it is convenient to express Cartesian Gaussian distributions in terms of Hermite Gaussian funcntions, such that their integration is faster.\n",
    "\n",
    "### Expanding Cartesian Gaussian overlap distributions in Hermite Gaussians \n",
    "\n",
    "Consider the 1D Cartesian overlap distribution $\\Omega_{ij}^x$ centered at $P$, which is a polynomial of degree $i+j$ in $x_P$.\n",
    "We can expand $\\Omega_{ij}^x$ in a linear combination of Hermite Gaussian functions _exactly_, according to\n",
    "\n",
    "$$\n",
    "\\Omega_{ij}^x = \\sum_{t=0}^{i+j} E_t^{ij} \\Lambda_t\n",
    "$$\n",
    "\n",
    "where we point out that the coefficients $E_t^{ij}$ have no dependence on $x_P$.  \n",
    "Through the application of a number of Gaussian properties and algebraic manipulations, it is possible to derive recurrence relations that determine the expansion coefficients $E_t^{ij}$ exactly.\n",
    "One such two-term recursive relation is given by\n",
    "\n",
    "$$\n",
    "\\begin{aligned}\n",
    "    E_t^{ij} &= 0 \\, , \\quad t < 0 \\quad \\text{or} \\quad t > i+j \\\\\n",
    "    E_0^{00} &= K_{\\alpha\\beta}^x \\\\\n",
    "    E_0^{i+1,j} &= X_{PA} E_0^{ij} + E_1^{ij} \\\\\n",
    "    E_0^{i,j+1} &= X_{PB} E_0^{ij} + E_1^{ij} \\\\\n",
    "    E_t^{i,j} &= \\frac{1}{2pt}(iE_{t-1}^{i-1,j} + jE_{t-1}^{i,j-1})\n",
    "\\end{aligned}\n",
    "$$\n",
    "\n",
    "with $X_{PA} = P_x - A_x$ and $X_{PB} = P_x - B_x$.  \n",
    "We recall the expression for $K_{\\alpha\\beta}^x$, which starts the recursion, reading\n",
    "\n",
    "$$\n",
    "K_{\\alpha\\beta}^x = e^{-\\mu X_{AB}^2}\n",
    "$$\n",
    "\n",
    "where $\\mu = \\alpha\\beta/(\\alpha+\\beta)$ and $X_{AB} = A_x - B_x$.  \n",
    "The expansion coefficients thus depend on the two exponents, the two Gaussian centers as well as their distance from the overlap centre of mass.\n",
    "\n",
    "Conveniently, it is possible to implement recursive formulas in Julia without any problem!  \n",
    "Let's define a function that computes the Hermite expansion coefficients of a 1D Cartesian overlap distribution"
   ]
  },
  {
   "cell_type": "code",
   "execution_count": 6,
   "metadata": {},
   "outputs": [
    {
     "data": {
      "text/plain": [
       "Etij"
      ]
     },
     "execution_count": 6,
     "metadata": {},
     "output_type": "execute_result"
    }
   ],
   "source": [
    "\"\"\"\n",
    "Returns the Hermite expansion coefficients for a 1D Cartesian overlap distribution\n",
    "using a two-term recursion relation.\n",
    "\"\"\"\n",
    "function Etij(t::Int ,i::Int, j::Int, Kαβx::Real, XPA::Real, XPB::Real, α::Real, β::Real)\n",
    "    \n",
    "    # compute overlap exponent\n",
    "    p = α + β\n",
    "    \n",
    "    # enter recursion\n",
    "    if t < 0 || t > i+j\n",
    "        return 0.0\n",
    "    elseif t == 0\n",
    "        if i == j == 0\n",
    "            return Kαβx\n",
    "        elseif j == 0\n",
    "            return XPA * Etij(0, i-1, j, Kαβx, XPA, XPB, α, β) +\n",
    "                         Etij(1, i-1, j, Kαβx, XPA, XPB, α, β)\n",
    "        else\n",
    "            return XPB * Etij(0, i, j-1, Kαβx, XPA, XPB, α, β) +\n",
    "                         Etij(1, i, j-1, Kαβx, XPA, XPB, α, β)\n",
    "        end\n",
    "    else\n",
    "        return (1/(2*p*t)) * (i * Etij(t-1, i-1, j, Kαβx, XPA, XPB, α, β) +\n",
    "                              j * Etij(t-1, i, j-1, Kαβx, XPA, XPB, α, β) )\n",
    "    end\n",
    "end"
   ]
  },
  {
   "cell_type": "markdown",
   "metadata": {},
   "source": [
    "Notice that there exist other recursion relations to compute the expansion coefficients. An alternative relation is presented at the end of this tutorial in the Appendix section.\n",
    "Here, we use the two-term relation implemented above which appears to be the most efficient (at least in terms of operations count).\n",
    "\n",
    "At this point, we are finally ready to evaluate the first integrals!"
   ]
  },
  {
   "cell_type": "markdown",
   "metadata": {},
   "source": [
    "### Overlap integrals\n",
    "\n",
    "Let us consider the following 1D overlap integral\n",
    "\n",
    "$$\n",
    "S_{ij} = \\langle G_i|G_j \\rangle = \\int G_i G_j dx = \\int \\Omega_{ij}^x dx\n",
    "$$\n",
    "\n",
    "We can substitute $\\Omega_{ij}^x$ with the Hermite expansion illustrated above, obtaining\n",
    "\n",
    "$$\n",
    "\\int \\Omega_{ij}^x dx = \\sum_{t=0}^{i+j} E_t^{ij} \\int \\Lambda_t dx = \\sum_{t=0}^{i+j} E_t^{ij} \\delta_{t0} \\sqrt{\\frac{\\pi}{p}} = E_0^{ij} \\sqrt{\\frac{\\pi}{p}}\n",
    "$$\n",
    "\n",
    "Generalizing this expression to the 3D case results in the McMurchie-Davidson formula for the overlap integral between two GTOs, given by\n",
    "\n",
    "$$\n",
    "\\begin{aligned}\n",
    "S_{ab} &= \\langle G_a | G_b \\rangle \\\\\n",
    "       &= \\langle G_{ikm} | G_{jln} \\rangle \\\\\n",
    "       &= \\langle G_i|G_j \\rangle \\langle G_k|G_l \\rangle \\langle G_m|G_n \\rangle \\\\\n",
    "       &= S_{ij} S_{kl} S_{mn} \\\\\n",
    "       &= E_0^{ij} E_0^{kl} E_0^{mn} \\left(\\sqrt{\\frac{\\pi}{p}}\\right)^3 \\\\\n",
    "       &= E_0^{ij} E_0^{kl} E_0^{mn} \\left(\\frac{\\pi}{p}\\right)^{\\tfrac{3}{2}}\n",
    "\\end{aligned}\n",
    "$$\n",
    "\n",
    "We can now implement a function computing the overlap integral between two Cartesian Gaussian fuctions represented by the `CGF` type defined at the beginning of the tutorial"
   ]
  },
  {
   "cell_type": "code",
   "execution_count": 7,
   "metadata": {},
   "outputs": [
    {
     "data": {
      "text/plain": [
       "overlap"
      ]
     },
     "execution_count": 7,
     "metadata": {},
     "output_type": "execute_result"
    }
   ],
   "source": [
    "\"\"\"Returns the overlap integral <Ga|Gb> of two Cartesian GTOs.\"\"\"\n",
    "function overlap(Ga::CGF, Gb::CGF)\n",
    "    \n",
    "    # precomputing all required quantities\n",
    "    α = exponent(Ga); β = exponent(Gb)\n",
    "    A = center(Ga);   B = center(Gb)\n",
    "    μ = (α * β)/(α + β)\n",
    "    P = (A*α + B*β)./(α + β)\n",
    "    RAB = A - B; RPA = P - A; RPB = P - B\n",
    "    Kαβ = exp.(-μ*RAB.^2)\n",
    "    (ia,ja,ka) = shell(Ga)\n",
    "    (ib,jb,kb) = shell(Gb)\n",
    "    \n",
    "    # calculate overlaps in the 3 Cartesian directions\n",
    "    Sx = Etij(0, ia, ib, Kαβ[1], RPA[1], RPB[1], α, β)\n",
    "    Sy = Etij(0, ja, jb, Kαβ[2], RPA[2], RPB[2], α, β)\n",
    "    Sz = Etij(0, ka, kb, Kαβ[3], RPA[3], RPB[3], α, β)\n",
    "    \n",
    "    return Sx * Sy * Sz * (π / (α + β) )^1.5\n",
    "end"
   ]
  },
  {
   "cell_type": "markdown",
   "metadata": {},
   "source": [
    "This is a good moment to test the functions implemented so far"
   ]
  },
  {
   "cell_type": "code",
   "execution_count": 8,
   "metadata": {},
   "outputs": [
    {
     "name": "stdout",
     "output_type": "stream",
     "text": [
      "<Ga|Ga> - <Ga|Ga> = 0.0\n",
      "<Gd|Gd> - <Gd|Gd> = 0.0\n",
      "<Ga|Gb> = 1.662763376131468\n",
      "<Ga|Gd> = 0.22213421730795865\n",
      "<Gb|Gc> = 6.79124992650095\n",
      "<Gc|Gb> = 6.79124992650095\n",
      "<Gb|Gd> = 0.0\n"
     ]
    }
   ],
   "source": [
    "Ga = CGF( ones(3), 0.3, (0,0,0)) # s   orbital centered at [1,1,1]\n",
    "Gb = CGF(zeros(3), 0.5, (0,1,0)) # py  orbital centered at origin\n",
    "Gc = CGF(zeros(3), 0.2, (0,1,0)) # py  orbital centered at origin\n",
    "Gd = CGF(zeros(3), 0.75,(0,1,1)) # dxz orbital centered at origin\n",
    "\n",
    "println(\"<Ga|Ga> - <Ga|Ga> = \", overlap(Ga) - overlap(Ga,Ga)) # -> 0.0\n",
    "println(\"<Gd|Gd> - <Gd|Gd> = \", overlap(Gd) - overlap(Gd,Gd)) # -> 0.0\n",
    "println(\"<Ga|Gb> = \",overlap(Ga,Gb))  # -> 1.662763376131468\n",
    "println(\"<Ga|Gd> = \",overlap(Ga,Gd))  # -> 0.22213421730795865\n",
    "println(\"<Gb|Gc> = \",overlap(Gb,Gc))  # -> 6.79124992650095\n",
    "println(\"<Gc|Gb> = \",overlap(Gc,Gb))  # -> = <Gb|Gc> = 6.79124992650095\n",
    "println(\"<Gb|Gd> = \",overlap(Gb,Gd))  # -> 0.0"
   ]
  },
  {
   "cell_type": "markdown",
   "metadata": {},
   "source": [
    "Note that GTOs centered on the same position in space but with different angular momenta (even in the same shell!)  are orthogonal to each other and therefore their overlap should be eaxctly zero!\n",
    "On the other hand, if their centers are different, their overlap will be $\\neq 0$."
   ]
  },
  {
   "cell_type": "markdown",
   "metadata": {},
   "source": [
    "### Kinetic energy integrals\n",
    "\n",
    "We continue with the evaluation of kinetic energy integrals by defining the general integral over differential operators\n",
    "\n",
    "$$\n",
    "D_{ab}^{efg} = \\langle G_a |\n",
    "\\frac{\\partial^e}{\\partial x^e} \\frac{\\partial^f}{\\partial y^f} \\frac{\\partial^g}{\\partial z^g}\n",
    "| G_b \\rangle\n",
    "$$\n",
    "\n",
    "Again, we can factorize these integrals, such that in the following we can focus on the one-dimensional case exemplified by\n",
    "\n",
    "$$\n",
    "D_{ij}^e = \\langle G_i | \\frac{\\partial^e}{\\partial x^e} | G_j \\rangle\n",
    "$$\n",
    "\n",
    "Thanks to the differentiation properties of (Cartesian) Gaussians, it is possible to express integrals over differential operators in terms of simple overlaps. In particular, for the second derivative with respect to the electronic coordinate, $D_{ij}^2$, we have\n",
    "\n",
    "$$\n",
    "D_{ij}^2 = 4\\alpha^2 S_{i+2,j} - 2\\alpha(2i +1)S_{ij} + i(i-1) S_{i-2,j}\n",
    "$$\n",
    "\n",
    "Accordingly, the three-dimensional case is given by\n",
    "\n",
    "$$\n",
    "\\langle G_a|\\frac{\\partial^2}{\\partial x^2}|G_b \\rangle =\n",
    "\\langle G_i|\\frac{\\partial^2}{\\partial x^2}|G_j \\rangle\n",
    "\\langle G_k|G_l \\rangle \\langle G_m|G_n \\rangle = D_{ij}^2 S_{kl} S_{mn}\n",
    "$$\n",
    "\n",
    "However, the kinetic energy integral over two GTOs reads\n",
    "\n",
    "$$\n",
    "T_{ab} = -\\frac{1}{2} \\langle G_a|\\nabla^2|G_b \\rangle\n",
    "$$\n",
    "\n",
    "Therefore, by expanding the (Laplace) operator $\\nabla^2$ ($= \\Delta$) explicitly, we can obtain the following expression\n",
    "\n",
    "$$\n",
    "\\begin{aligned}\n",
    "T_{ab} &= -\\frac{1}{2} \\langle G_a|\\frac{\\partial^2}{\\partial x^2} +\n",
    "\\frac{\\partial^2}{\\partial y^2} + \\frac{\\partial^2}{\\partial z^2}|G_b \\rangle \\\\\n",
    "&= -\\frac{1}{2} (\\langle G_a|\\frac{\\partial^2}{\\partial x^2}|G_b \\rangle +\n",
    "\\langle G_a|\\frac{\\partial^2}{\\partial y^2}|G_b \\rangle +\n",
    "\\langle G_a|\\frac{\\partial^2}{\\partial z^2}|G_b \\rangle) \\\\\n",
    "&= -\\frac{1}{2}(D_{ij}^2S_{kl}S_{mn} + S_{ij}D_{kl}^2S_{mn} + S_{ij}S_{kl}D_{mn}^2 )\n",
    "\\end{aligned}\n",
    "$$\n",
    "\n",
    "The kinetic energy integrals are computed relying exclusively on overlap integrals and therefore their implementation is quite straightforward.  \n",
    "However, since we require overlaps of arbitrary angular momenta, it is more convenient to define a _second_ overlap integral function accepting different input parameters than the one previously defined. We can call it with the same name `overlap`, and a different signature (i.e. input parameters) is sufficient for Julia multiple dispatch system to understand which function to call"
   ]
  },
  {
   "cell_type": "code",
   "execution_count": 9,
   "metadata": {},
   "outputs": [
    {
     "data": {
      "text/plain": [
       "kinetic"
      ]
     },
     "execution_count": 9,
     "metadata": {},
     "output_type": "execute_result"
    }
   ],
   "source": [
    "\"\"\"Returns the overlap integral <Ga|Gb> of two Cartesian Gaussian functions.\"\"\"\n",
    "function overlap(α::Real, ikm::Tuple{Int,Int,Int}, A::Vector{T},\n",
    "                 β::Real, jln::Tuple{Int,Int,Int}, B::Vector{T}) where {T<:Real}\n",
    "    \n",
    "    # precomputing all required quantities\n",
    "    μ = (α * β)/(α + β)\n",
    "    P = (A*α + B*β)./(α + β)\n",
    "    RAB = A - B; RPA = P - A; RPB = P - B\n",
    "    Kαβ = exp.(-μ*RAB.^2)\n",
    "    \n",
    "    # calculate overlaps in the 3 Cartesian directions\n",
    "    Sx = Etij(0, ikm[1], jln[1], Kαβ[1], RPA[1], RPB[1], α, β)\n",
    "    Sy = Etij(0, ikm[2], jln[2], Kαβ[2], RPA[2], RPB[2], α, β)\n",
    "    Sz = Etij(0, ikm[3], jln[3], Kαβ[3], RPA[3], RPB[3], α, β)\n",
    "    \n",
    "    return Sx * Sy * Sz * (π / (α + β) )^1.5\n",
    "end\n",
    "\n",
    "\n",
    "\"\"\"Returns the kinetic energy integral -0.5*<Ga|∇^2|Gb> of two CGFs.\"\"\"\n",
    "function kinetic(Ga::CGF, Gb::CGF)\n",
    "    \n",
    "    # extract info from CGFs\n",
    "    α = exponent(Ga); β = exponent(Gb)\n",
    "    A = center(Ga); B = center(Gb)\n",
    "    (i,k,m) = shell(Ga); (j,l,n) = shell(Gb)\n",
    "    \n",
    "    # precompute common terms\n",
    "    dαSab = 2*α*overlap(α, (i,k,m), A, β, (j,l,n), B)\n",
    "    fα2 = 4*α^2\n",
    "    \n",
    "    # Dij^2 * Skl * Smn\n",
    "    Dij = i*(i-1) * overlap(α, (i-2,k,m), A, β, (j,l,n), B) -\n",
    "          (2*i+1) * dαSab +\n",
    "              fα2 * overlap(α, (i+2,k,m), A, β, (j,l,n), B)\n",
    "    \n",
    "    # Sij * Dkl^2 * Smn\n",
    "    Dkl = k*(k-1) * overlap(α, (i,k-2,m), A, β, (j,l,n), B) -\n",
    "          (2*k+1) * dαSab +\n",
    "              fα2 * overlap(α, (i,k+2,m), A, β, (j,l,n), B)\n",
    "    \n",
    "    # Sij * Skl * Dmn^2\n",
    "    Dmn = m*(m-1) * overlap(α, (i,k,m-2), A, β, (j,l,n), B) -\n",
    "          (2*m+1) * dαSab +\n",
    "              fα2 * overlap(α, (i,k,m+2), A, β, (j,l,n), B)\n",
    "    \n",
    "    return -0.5 * (Dij + Dkl + Dmn)\n",
    "end"
   ]
  },
  {
   "cell_type": "markdown",
   "metadata": {},
   "source": [
    "Note that, from a computational point of view, it would be more convenient to wrap the calculation of overlap and kinetic energy integrals together in a single function or precompute the Hermite expansion coefficients $E^{ij}_t$, since the former are used for the latter, avoiding unnecessary recalculation of common terms."
   ]
  },
  {
   "cell_type": "markdown",
   "metadata": {},
   "source": [
    "### Nuclear attraction integrals\n",
    "\n",
    "To complete the one-electron integrals section we now discuss the nuclear Coulomb attraction integrals.  \n",
    "They differ from the previous cases in the fact that these integrals cannot be factorized along the three Cartesian directions.  \n",
    "We are interested in evaluating the following integral\n",
    "\n",
    "$$\n",
    "V_{ab} = \\langle G_a|\\frac{1}{r_C}|G_b \\rangle = \\int \\frac{\\Omega_{ab}(\\mathbf{r})}{r_C}d\\mathbf{r}\n",
    "$$\n",
    "\n",
    "where $r_C$ is the distance between the electron and the nucleus position $\\mathbf{C}$, while $\\Omega_{ab}(\\mathbf{r})$ is the Cartesian Gaussian overlap distribution arising from the two GTOs involved in the integral.\n",
    "As before, the idea is to expand $\\Omega_{ab}$ in Hermite Gaussian functions as\n",
    "\n",
    "$$\n",
    "V_{ab} = \\sum_{tuv} E_{tuv}^{ab} \\int \\frac{\\Lambda_{tuv}(\\mathbf{r})}{r_C}d\\mathbf{r}\n",
    "$$\n",
    "\n",
    "where $E_{tuv}^{ab} = E_t^{ij}E_u^{kl}E_v^{mn}$.\n",
    "\n",
    "The _Hermite Coulomb integral_ on the right-hand side can be evaluated as follows\n",
    "\n",
    "$$\n",
    "\\int \\frac{\\Lambda_{tuv}(\\mathbf{r})}{r_C}d\\mathbf{r} = \\frac{2\\pi}{p} \\left(\\frac{\\partial}{\\partial P_x}\\right)^t \\left(\\frac{\\partial}{\\partial P_y}\\right)^u \\left(\\frac{\\partial}{\\partial P_z}\\right)^v F_0(pR_{PC}^2)\n",
    "$$\n",
    "\n",
    "where $F_0(x)$ is the special case $n=0$ of the _Boys function_ $F_n(x)$, given by\n",
    "\n",
    "$$\n",
    "F_n(x) = \\int_0^1 e^{-xt^2}t^{2n} dt\n",
    "$$\n",
    "\n",
    "We shall see later on how to efficiently evaluate the Boys function.  \n",
    "If $t,u$ or $v$ are different from zero, the differential operators appearing in the Hermite Coulomb integral act on the Boys function. However, such derivatives can be conveniently expressed in terms of Boys functions with a higher value of $n$.  \n",
    "In general, Hermite integrals for $t+u+v \\le N$ may be calculated from Boys functions $F_n$ of order $n \\le N$. To this end, let us introduce the _auxiliary Hermite integrals_\n",
    "\n",
    "$$\n",
    "R^n_{tuv}(p,\\mathbf{R}_{PC}) = \\left(\\frac{\\partial}{\\partial P_x}\\right)^t \\left(\\frac{\\partial}{\\partial P_y}\\right)^u \\left(\\frac{\\partial}{\\partial P_z}\\right)^v R^n_{000}(p,R_{PC})\n",
    "$$\n",
    "\n",
    "where\n",
    "\n",
    "$$\n",
    "R^n_{000}(p,R_{PC}) = (-2p)^n F_n(pR_{PC}^2)\n",
    "$$\n",
    "\n",
    "By exploiting properties of the Boys function, it is possible to derive the following recursive relations for the evaluation of the auxiliary integrals $R^n_{tuv}(p,\\mathbf{R}_{PC})$\n",
    "\n",
    "$$\n",
    "\\begin{aligned}\n",
    "R^n_{t+1,u,v}(p,\\mathbf{R}_{PC}) = t R^{n+1}_{t-1,u,v}(p,\\mathbf{R}_{PC}) + X_{PC} R^{n+1}_{tuv}(p,\\mathbf{R}_{PC}) \\\\\n",
    "R^n_{t,u+1,v}(p,\\mathbf{R}_{PC}) = u R^{n+1}_{t,u-1,v}(p,\\mathbf{R}_{PC}) + Y_{PC} R^{n+1}_{tuv}(p,\\mathbf{R}_{PC}) \\\\\n",
    "R^n_{t,u,v+1}(p,\\mathbf{R}_{PC}) = v R^{n+1}_{t,u,v-1}(p,\\mathbf{R}_{PC}) + Z_{PC} R^{n+1}_{tuv}(p,\\mathbf{R}_{PC})\n",
    "\\end{aligned}\n",
    "$$\n",
    "\n",
    "We finally have an expression for $V_{ab}$ given by\n",
    "\n",
    "$$\n",
    "V_{ab} = \\frac{2\\pi}{p} \\sum_{tuv} E_{tuv}^{ab} R^0_{tuv}(p,\\mathbf{R}_{PC})\n",
    "$$\n",
    "\n",
    "Note that the nuclear attraction part of the Hamiltonian contains contributions from all the nuclei and their charge. Therefore, in practice we will have to calculate\n",
    "\n",
    "$$\n",
    "h_{ab} = -\\sum_K Z_K V_{ab}(\\mathbf{C}_K) = -\\frac{2\\pi}{p} \\sum_{tuv} E_{tuv}^{ab} \\sum_K Z_K R^0_{tuv}(p,\\mathbf{R}_{PC_K})\n",
    "$$\n",
    "\n",
    "Before implementing the recursive formula for the auxiliary Hermite integrals, we are gonna implement the Boys function."
   ]
  },
  {
   "cell_type": "markdown",
   "metadata": {},
   "source": [
    "#### Boys function\n",
    "\n",
    "The Boys function is related to many other special functions of mathematics, such as the _Euler gamma function_, the _lower incomplete gamma function_ or also the _error function_.\n",
    "It turns out that the Boys function can be expressed as a special case of the _Kummer confluent hypergeometric function_ $M(a,b,x)$, in particular by the relation\n",
    "\n",
    "$$\n",
    "F_n(x) = \\frac{M(n+\\tfrac{1}{2},n+\\tfrac{3}{2},-x)}{2n+1}\n",
    "$$\n",
    "\n",
    "It is particularly important that this function is efficiently coded, since it is used several times for the evaluation of the two-electron integrals (formally scaling as the fourth power of the number of primitives).\n",
    "To this end, an efficient and readily accessible implementation of this function in Julia is provided by the [GSL](https://www.gnu.org/software/gsl/) library, accessible through a wrapper.  \n",
    "You can install the wrapper as any other Julia package, by issuing `add GSL` in the package manager (accessed by typing `]` in the REPL).\n",
    "\n",
    "Let us simply implement the Boys function as follows"
   ]
  },
  {
   "cell_type": "code",
   "execution_count": 30,
   "metadata": {},
   "outputs": [
    {
     "data": {
      "text/plain": [
       "boys (generic function with 1 method)"
      ]
     },
     "execution_count": 30,
     "metadata": {},
     "output_type": "execute_result"
    }
   ],
   "source": [
    "import GSL: sf_hyperg_1F1\n",
    "\n",
    "function boys(n::Int, x::Real)\n",
    "    return sf_hyperg_1F1(n+0.5, n+1.5, -x) / (2.0*n+1.0)\n",
    "end"
   ]
  },
  {
   "cell_type": "markdown",
   "metadata": {},
   "source": [
    "At this point we can implement the auxiliary Hermite Gaussian integrals"
   ]
  },
  {
   "cell_type": "code",
   "execution_count": 11,
   "metadata": {},
   "outputs": [
    {
     "data": {
      "text/plain": [
       "Rtuv"
      ]
     },
     "execution_count": 11,
     "metadata": {},
     "output_type": "execute_result"
    }
   ],
   "source": [
    "\"\"\"Returns the integral of an Hermite Gaussian divided by the Coulomb operator.\"\"\"\n",
    "function Rtuv(t::Int, u::Int, v::Int, n::Int, p::Real, RPC::Vector{T}) where {T<:Real}\n",
    "    if t == u == v == 0\n",
    "        return (-2.0*p)^n * boys(n,p*sum(RPC.*RPC))\n",
    "    elseif u == v == 0\n",
    "        if t > 1\n",
    "            return  (t-1)*Rtuv(t-2, u, v, n+1, p, RPC) +\n",
    "                   RPC[1]*Rtuv(t-1, u, v, n+1, p, RPC)\n",
    "        else\n",
    "            return RPC[1]*Rtuv(t-1, u, v, n+1, p, RPC)\n",
    "        end\n",
    "    elseif v == 0\n",
    "        if u > 1\n",
    "            return  (u-1)*Rtuv(t, u-2, v, n+1, p, RPC) +\n",
    "                   RPC[2]*Rtuv(t, u-1, v, n+1, p, RPC)\n",
    "        else\n",
    "            return RPC[2]*Rtuv(t, u-1, v, n+1, p ,RPC)\n",
    "        end\n",
    "    else\n",
    "        if v > 1\n",
    "            return  (v-1)*Rtuv(t, u, v-2, n+1, p, RPC) +\n",
    "                   RPC[3]*Rtuv(t, u, v-1, n+1, p, RPC)\n",
    "        else\n",
    "            return RPC[3]*Rtuv(t, u, v-1, n+1, p, RPC)\n",
    "        end\n",
    "    end\n",
    "end"
   ]
  },
  {
   "cell_type": "markdown",
   "metadata": {},
   "source": [
    "Let us now see how to implement the term $V_{ab}$.  \n",
    "From a computational perspective, it is more convenient to carry out the Hermite-to-Cartesian transoformation for the three Cartesian components one after the other instead of all of them at the same time, i.e.\n",
    "\n",
    "$$\n",
    "\\begin{aligned}\n",
    "V_{ab} &= \\frac{2\\pi}{p} \\sum_{tuv} E_{tuv}^{ab} R^0_{tuv}(p,\\mathbf{R}_{PC}) \\\\ \n",
    "&=  \\frac{2\\pi}{p} \\sum_{t} E_{t}^{ij} \\sum_{u} E_{u}^{kl} \\sum_{v} E_{v}^{mn} R^0_{tuv}(p,\\mathbf{R}_{PC})\n",
    "\\end{aligned}\n",
    "$$\n",
    "\n",
    "The following function implements it"
   ]
  },
  {
   "cell_type": "code",
   "execution_count": 12,
   "metadata": {},
   "outputs": [
    {
     "data": {
      "text/plain": [
       "attraction"
      ]
     },
     "execution_count": 12,
     "metadata": {},
     "output_type": "execute_result"
    }
   ],
   "source": [
    "\"\"\"Returns the nuclear attraction energy integral of the distribution Ωab from center C.\"\"\"\n",
    "function attraction(Ga::CGF, Gb::CGF, C::Vector{T}) where {T<:Real}\n",
    "    \n",
    "    # precomputing all required quantities\n",
    "    α = exponent(Ga); β = exponent(Gb)\n",
    "    (i,k,m) = shell(Ga); (j,l,n) = shell(Gb)\n",
    "    A = center(Ga); B = center(Gb)\n",
    "    p = α + β\n",
    "    P = (α*A + β*B) / (α + β)\n",
    "    RAB = A - B; RPA = P - A; RPB = P - B; RPC = P - C\n",
    "    μ = (α * β)/(α + β)\n",
    "    Kαβ = exp.(-μ*RAB.^2)\n",
    "    \n",
    "    vne = 0.0\n",
    "    for t = 0:i+j\n",
    "        Eij = Etij(t, i, j, Kαβ[1], RPA[1], RPB[1], α, β)\n",
    "        for u = 0:k+l\n",
    "            Ekl = Etij(u, k, l, Kαβ[2], RPA[2], RPB[2], α, β)\n",
    "            for v = 0:m+n\n",
    "                Emn = Etij(v, m, n, Kαβ[3], RPA[3], RPB[3], α, β)\n",
    "                vne +=  Eij * Ekl * Emn * Rtuv(t, u, v, 0, p, RPC)\n",
    "            end\n",
    "        end\n",
    "    end\n",
    "    \n",
    "    return 2.0*π*vne/p\n",
    "end"
   ]
  },
  {
   "cell_type": "markdown",
   "metadata": {},
   "source": [
    "### Two-electron repulsion integrals\n",
    "\n",
    "Finally we arrived at the most computational intensive and complicated integrals, the electron repulsion integrals (ERIs).  \n",
    "However, we have already done all the hard work, i.e. the definition of the auxiliary Hermite integrals. Let's see, we are interested in the calculation of the following type of integrals\n",
    "\n",
    "$$\n",
    "g_{abcd} = \\langle G_a G_b|\\frac{1}{r_{12}}|G_c G_d \\rangle = \\int\\int\n",
    "\\frac{\\Omega_{ab}(\\mathbf{r}_1)\\Omega_{cd}(\\mathbf{r}_2)}{r_{12}}d\\mathbf{r}_1d\\mathbf{r}_2\n",
    "$$\n",
    "\n",
    "Similarly to the previous case, we expand the Cartesian overlap distributions using Hermite Gaussians, such that we obtain\n",
    "\n",
    "$$\n",
    "g_{abcd} = \\sum_{tuv} E_{tuv}^{ab} \\sum_{\\tau\\nu\\phi} E_{\\tau\\nu\\phi}^{cd} \\int\\int \\frac{\\Lambda_{tuv}(\\mathbf{r}_1)\\Lambda_{\\tau\\nu\\phi}(\\mathbf{r}_2)}{r_{12}}d\\mathbf{r}_1d\\mathbf{r}_2\n",
    "$$\n",
    "\n",
    "We can express the double integral on the right-hand side using the auxiliary Hermite integrals $R_{tuv}^n$ derived precedently, such that the ERI formula is given by\n",
    "\n",
    "$$\n",
    "g_{abcd} = \\frac{2\\pi^{5/2}}{pq\\sqrt{p+q}} \\sum_{tuv} E_{tuv}^{ab} \\sum_{\\tau\\nu\\phi} (-1)^{\\tau + \\nu + \\phi} E_{\\tau\\nu\\phi}^{cd} R_{t+\\tau,u+\\nu,v+\\phi}^n(\\xi,\\mathbf{R}_{PQ})\n",
    "$$\n",
    "\n",
    "where $p$ and $q$ are the exponent of the Hermite Gaussians centered in $\\mathbf{P}$ and $\\mathbf{Q}$, respectively.\n",
    "The center $\\mathbf{P}$ is computed according to\n",
    "\n",
    "$$\n",
    "\\mathbf{P} = \\frac{\\alpha\\mathbf{A} + \\beta\\mathbf{B}}{\\alpha + \\beta}\n",
    "$$\n",
    "\n",
    "and similarly is done for $\\mathbf{Q}$, using the information of the GTOs $G_c$ and $G_d$.  \n",
    "The exponent $\\xi$ is called _reduced exponent_ and is given by\n",
    "\n",
    "$$\n",
    "\\xi = \\frac{pq}{p+q}\n",
    "$$\n",
    "\n",
    "So, at this point we can already implement the function computing the ERIs"
   ]
  },
  {
   "cell_type": "code",
   "execution_count": 13,
   "metadata": {},
   "outputs": [
    {
     "data": {
      "text/plain": [
       "repulsion"
      ]
     },
     "execution_count": 13,
     "metadata": {},
     "output_type": "execute_result"
    }
   ],
   "source": [
    "\"\"\"Returns the two-electron integral gabcd = < Ga(r1) Gb(r1) | 1/r12 | Gc(r2) Gd(r2) >.\"\"\"\n",
    "function repulsion(Ga::CGF, Gb::CGF, Gc::CGF, Gd::CGF)\n",
    "    \n",
    "    # extract info from gaussians for electron 1\n",
    "    α = exponent(Ga); β = exponent(Gb)\n",
    "    (i1,k1,m1) = shell(Ga); (j1,l1,n1) = shell(Gb)\n",
    "    A = center(Ga); B = center(Gb); RAB = A-B\n",
    "    # precompute quantities for electron 1\n",
    "    P = (α*A + β*B) / (α + β)\n",
    "    p = α + β\n",
    "    Kαβ = exp.(-α*β/(α+β)*RAB.^2)\n",
    "    RPA = P-A; RPB = P-B\n",
    "    \n",
    "    # extract info from gaussians for electron 2\n",
    "    γ = exponent(Gc); δ = exponent(Gd)\n",
    "    (i2,k2,m2) = shell(Gc); (j2,l2,n2) = shell(Gd)\n",
    "    C = center(Gc); D = center(Gd); RCD = C-D\n",
    "    # precompute quantities for electron 2\n",
    "    Q = (γ*C + δ*D) / (γ + δ)\n",
    "    q = γ + δ\n",
    "    Kγδ = exp.(-γ*δ/(γ+δ)*RCD.^2)\n",
    "    RQC = Q-C; RQD = Q-D\n",
    "    \n",
    "    # precompute quantities for auxiliary integral R\n",
    "    RPQ = P-Q\n",
    "    ξ = p*q/(p+q)\n",
    "    \n",
    "    vee = 0.0\n",
    "    for t = 0:i1+j1\n",
    "        Eij1 = Etij(t, i1, j1, Kαβ[1], RPA[1], RPB[1], α, β)\n",
    "        for u = 0:k1+l1\n",
    "            Ekl1 = Etij(u, k1, l1, Kαβ[2], RPA[2], RPB[2], α, β)\n",
    "            for v = 0:m1+n1\n",
    "                Emn1 = Etij(v, m1, n1, Kαβ[3], RPA[3], RPB[3], α, β)\n",
    "                for τ = 0:i2+j2\n",
    "                    Eij2 = Etij(τ, i2, j2, Kγδ[1], RQC[1], RQD[1], γ, δ)\n",
    "                    for ν = 0:k2+l2\n",
    "                        Ekl2 = Etij(ν, k2, l2, Kγδ[2], RQC[2], RQD[2], γ, δ)\n",
    "                        for ϕ = 0:m2+n2\n",
    "                            Emn2 = Etij(ϕ, m2, n2, Kγδ[3], RQC[3], RQD[3], γ, δ)\n",
    "                            vee += Eij1 * Ekl1 * Emn1 * Eij2 * Ekl2 * Emn2 *\n",
    "                                   Rtuv(t+τ, u+ν, v+ϕ, 0, ξ, RPQ) * (-1)^(τ+ν+ϕ)\n",
    "                        end\n",
    "                    end\n",
    "                end\n",
    "            end\n",
    "        end\n",
    "    end\n",
    "    \n",
    "    return (vee*2.0*π^2.5)/(p*q*sqrt(p+q))\n",
    "end"
   ]
  },
  {
   "cell_type": "markdown",
   "metadata": {},
   "source": [
    "And with this function we are done implementing the backbone of our molecular integrals program. We have all the functions to compute the various types of integrals of primitive Cartesian GTOs according to the McMurchie-Davidson scheme!\n",
    "\n",
    "This again a good point to test our implementation so far"
   ]
  },
  {
   "cell_type": "code",
   "execution_count": 14,
   "metadata": {},
   "outputs": [
    {
     "name": "stdout",
     "output_type": "stream",
     "text": [
      "<Ga|T|Ga> = 5.391510399487428\n",
      "<Ga|T|Gb> = 1.2081015154705197\n",
      "<Gc|V|Gc> = 11.986181257106331\n",
      "<Gc|V|Gd> = 0.28734166803518\n",
      "(GcGc|GdGd) = 4.249880629786412\n",
      "(GaGb|GcGd) = 0.14737599727691464\n"
     ]
    }
   ],
   "source": [
    "println(\"<Ga|T|Ga> = \",kinetic(Ga,Ga))  # -> 5.391510399487428\n",
    "println(\"<Ga|T|Gb> = \",kinetic(Ga,Gb))  # -> 1.2081015154705197\n",
    "println(\"<Gc|V|Gc> = \",attraction(Gc,Gc,center(Ga)))  # -> 11.986181257106331\n",
    "println(\"<Gc|V|Gd> = \",attraction(Gc,Gd,center(Ga)))  # -> 0.28734166803518\n",
    "println(\"(GcGc|GdGd) = \",repulsion(Gc,Gc,Gd,Gd))  # -> 4.249880629786412\n",
    "println(\"(GaGb|GcGd) = \",repulsion(Ga,Gb,Gc,Gd))  # -> 0.14737599727691464"
   ]
  },
  {
   "cell_type": "markdown",
   "metadata": {},
   "source": [
    "Now that the we are sure about the correctness of our code, we can continue.\n",
    "As it was stated further above, Cartesian Gaussians are used to compute the integrals, but in general we would like to transform these integrals into a basis of spherical-harmonic Gaussians functions, i.e. SGFs, so let's defined them and see how to carry out that transformation!"
   ]
  },
  {
   "cell_type": "markdown",
   "metadata": {},
   "source": [
    "## Spherical-harmonic Gaussian functions\n",
    "\n",
    "Real-valued _spherical-harmonic Gaussian functions (SGFs)_, usually called _spherical-harmonic GTOs_, are real valued functions with the form\n",
    "\n",
    "$$\n",
    "G_{lm}(\\mathbf{r},\\alpha,\\mathbf{A}) = S_{lm}(x_A,y_A,z_A) e^{-\\alpha r_A^2}\n",
    "$$\n",
    "\n",
    "where $S_{lm}(\\mathbf{r}_A)$ is one of the _real-valued solid harmonics_, which are formed by taking the real and imaginary parts of the _solid harmonics_ $\\mathcal{Y}_{lm}(\\mathbf{r}) = r^l Y_{lm}(\\theta,\\phi)$, with $Y_{lm}(\\theta,\\phi)$ being the usual _spherical harmonic functions_, i.e. the eigenfunctions of the total angular momentum operator squared $\\hat{L}^2$ and the $z$-projection of the angular momentum $\\hat{L}_z$.  \n",
    "The position of the electron is defined relative to the nucleus at position $\\mathbf{A}$\n",
    "\n",
    "$$\n",
    "\\mathbf{r}_A = \\mathbf{r} - \\mathbf{A}\n",
    "$$\n",
    "\n",
    "and $x_A, y_A$ and $z_A$ are the relative Cartesian components. The _Gaussian exponent_ $\\alpha$ is a real number greater than zero.\n",
    "The total angular momentum is given by $l$, and the set of SGFs with $m=-l,-l+1,\\ldots,l$ is said to constitute a _shell_.\n",
    "The number of SGFs constituting a complete shell is given by\n",
    "\n",
    "$$\n",
    "N_l^s = 2l + 1\n",
    "$$\n",
    "\n",
    "Let us define a Julia class to represent such functions."
   ]
  },
  {
   "cell_type": "code",
   "execution_count": 15,
   "metadata": {},
   "outputs": [
    {
     "data": {
      "text/plain": [
       "ml (generic function with 1 method)"
      ]
     },
     "execution_count": 15,
     "metadata": {},
     "output_type": "execute_result"
    }
   ],
   "source": [
    "struct SGF <: BasisFunction\n",
    "    A::NTuple{3,Float64}\n",
    "    α::Float64\n",
    "    l::Int\n",
    "    m::Int\n",
    "end\n",
    "\n",
    "\"\"\"`SGF` constructor using a vector as the center.\"\"\"\n",
    "function SGF(A::AbstractVector{T}, α::Real, l::Int, m::Int) where {T<:Real}\n",
    "    return SGF((A[1],A[2],A[3]),α,l,m)\n",
    "end\n",
    "\n",
    "center(gto::SGF)   = [gto.A[1],gto.A[2],gto.A[3]]\n",
    "exponent(gto::SGF) = gto.α\n",
    "shell(gto::SGF)    = gto.l\n",
    "ml(gto::SGF)       = gto.m"
   ]
  },
  {
   "cell_type": "markdown",
   "metadata": {},
   "source": [
    "### Cartesian to spherical-harmonic transformation\n",
    "\n",
    "A spherical-harmonic Gaussian $G_{lm}$ of angular momentum $l$ and projection $m$ can be expressed as a linear combination of Cartesian Gaussians $G_{ijk}$ with the same total angular momentum $l=i+j+k$ according to\n",
    "\n",
    "$$\n",
    "G_{lm}(\\mathbf{r},\\alpha,\\mathbf{A}) = \\sum_{i,j,k\\\\i+j+k=l} T_{ijk}^{lm} G_{ijk}(\\mathbf{r},\\alpha,\\mathbf{A})\n",
    "$$\n",
    "\n",
    "This transformation is relatively easy in theory, but the formula for the transformation coefficients $T_{ijk}^{lm}$ is quite nasty, e.g.\n",
    "\n",
    "$$\n",
    "G_{lm}(\\mathbf{r},\\alpha,\\mathbf{A}) =\n",
    "N_{lm}^S \\sum_{t=0}^{[(l-|m|)/2]}\\sum_{u=0}^t\\sum_{v=v_m}^{[|m|/2-v_m]+v_m}\n",
    "C_{tuv}^{lm} G_{2t+|m|-2(u+v),2(u+v),l-2t-|m|}(\\mathbf{r},\\alpha,\\mathbf{A})\n",
    "$$\n",
    "\n",
    "The numbers in the square brackets correspond to the largest integer less than or equal to the one inside (i.e. it rounds it down to the closest integer). The various terms appearing in the above expression read\n",
    "\n",
    "\\begin{align}\n",
    "N_{lm}^S &= \\frac{1}{2^{|m|}l!} \\sqrt{\\frac{2(l+|m|)!(l-|m|)!}{2^{\\delta_{0m}}}} \\\\\n",
    "C_{tuv}^{lm} &= (-1)^{t+v-v_m} \\bigg( \\frac{1}{4} \\bigg)^t \\binom{l}{t}\n",
    "\\binom{l-t}{|m|+t} \\binom{t}{u} \\binom{|m|}{2v} \\\\\n",
    "v_m &= \n",
    "\\begin{cases}\n",
    "0 & m \\ge 0 \\\\\n",
    "\\tfrac{1}{2} & m \\lt 0\n",
    "\\end{cases}\n",
    "\\end{align}\n",
    "\n",
    "Note that $v_m$ can be either $0$ or $\\tfrac{1}{2}$ and that the third sum starts from $v=v_m$. This means that when $v_m$ is zero, the sum runs over integer numbers $v = 0, 1, 2, \\ldots$, while when $v_m$ is equal one half, the sum runs over half integers $v = \\tfrac{1}{2}, \\tfrac{3}{2}, \\ldots$.  \n",
    "As we can see, the analytical form of SGFs is somewhat more complicated than that of CGFs, however, the coefficients $N_{lm}^S$, $C_{tuv}^{lm}$ and the index $v_m$ only depend on $l$ and $m$, thus they can be precomputed for all functions in a given basis set.\n",
    "\n",
    "Let's move on to the implementation!  \n",
    "First, we code the kernel functions that compute the coefficients $N_{lm}^S$ and $C_{tuv}^{lm}$"
   ]
  },
  {
   "cell_type": "code",
   "execution_count": 16,
   "metadata": {},
   "outputs": [
    {
     "data": {
      "text/plain": [
       "Ctuvlm (generic function with 1 method)"
      ]
     },
     "execution_count": 16,
     "metadata": {},
     "output_type": "execute_result"
    }
   ],
   "source": [
    "function NlmS(l::Int, m::Int)\n",
    "    # factor in front of the sqrt\n",
    "    fac = 1.0/(2^abs(m)*factorial(l))\n",
    "    \n",
    "    # numerator divided by half\n",
    "    numhalf = factorial(l+abs(m))*factorial(l-abs(m))\n",
    "    \n",
    "    # check m for the denominator, multiply and return\n",
    "    if m == 0\n",
    "        return fac*sqrt(numhalf)\n",
    "    else\n",
    "        return fac*sqrt(2.0*numhalf)\n",
    "    end\n",
    "end\n",
    "\n",
    "\n",
    "# note that `v` can take half integer values, thus is `Real`\n",
    "function Ctuvlm(t::Int, u::Int, v::Real, l::Int, m::Int)\n",
    "    # if statement to set v_m directly in the expression\n",
    "    if m >= 0\n",
    "        return (-1)^(t+v) * (0.25)^t * binomial(l,t) *\n",
    "               binomial(l-t,abs(m)+t) * binomial(t,u) *\n",
    "               binomial(abs(m),Int(2*v))\n",
    "    else\n",
    "        # note the -0.5 due to v_m\n",
    "        return (-1)^(t+v-0.5) * (0.25)^t * binomial(l,t) *\n",
    "               binomial(l-t,abs(m)+t) * binomial(t,u) *\n",
    "               binomial(abs(m),Int(2*v))\n",
    "    end\n",
    "end"
   ]
  },
  {
   "cell_type": "markdown",
   "metadata": {},
   "source": [
    "We now write a function that generates all the coefficients $T_{ijk}^{lm}$ for transformations up to an arbitrary angular momentum $l_{max}$"
   ]
  },
  {
   "cell_type": "code",
   "execution_count": 17,
   "metadata": {},
   "outputs": [
    {
     "data": {
      "text/plain": [
       "Tijklm (generic function with 1 method)"
      ]
     },
     "execution_count": 17,
     "metadata": {},
     "output_type": "execute_result"
    }
   ],
   "source": [
    "function Tijklm(lmax::Int)\n",
    "    # initialize dictionary containing the transformation coeffs\n",
    "    Tijklm_ = Dict{Tuple{Int,Int},Vector{Pair{Tuple{Int,Int,Int},Float64}}}()\n",
    "    \n",
    "    # loop over angular momenta\n",
    "    for l = 0:lmax\n",
    "        # loop over magnetic quantum numbers\n",
    "        for m = -l:1:l\n",
    "            # compute v_m\n",
    "            if m < 0\n",
    "                vm = 0.5\n",
    "            else\n",
    "                vm = 0.0\n",
    "            end\n",
    "            \n",
    "            # since the loop over v runs with half integers\n",
    "            # for m < 0, we run it instead over 2*v, where\n",
    "            # vvmin and vvmax are beginning and end of the\n",
    "            # loop over 2*v, such that this works for all\n",
    "            # cases, i.e. also when v is an integer\n",
    "            vvmin = Int(2 * vm)\n",
    "            vvmax = Int(2 * (floor(Int,abs(m)/2-vm) + vm))\n",
    "            \n",
    "            # initialize vector holding coeffs\n",
    "            Tlm = Vector{Pair{Tuple{Int,Int,Int},Float64}}()\n",
    "            # loop over auxiliary indices\n",
    "            for t = 0:floor(Int,(l-abs(m))/2)\n",
    "                for u = 0:t\n",
    "                    for vv = vvmin:2:vvmax\n",
    "                        # compute v = vv/2, this might be\n",
    "                        # either `Int` or `Float`\n",
    "                        v = vv*0.5\n",
    "                        # compute the Cartesian angular momenta\n",
    "                        # to know the associated GTO to the\n",
    "                        # transformation coefficient calculated here\n",
    "                        i = Int(2*t+abs(m)-2*(u+v))\n",
    "                        j = Int(2*(u+v))\n",
    "                        k = Int(l-2*t-abs(m))\n",
    "                        \n",
    "                        # compute coeff and save it\n",
    "                        T = NlmS(l,m)*Ctuvlm(t,u,v,l,m)\n",
    "                        push!(Tlm,((i,j,k)=>T))\n",
    "                    end\n",
    "                end\n",
    "            end\n",
    "            push!(Tijklm_,(l,m) => Tlm)\n",
    "        end\n",
    "    end\n",
    "    \n",
    "    return Tijklm_\n",
    "end"
   ]
  },
  {
   "cell_type": "markdown",
   "metadata": {},
   "source": [
    "This function allows us to compute all coefficients up to an arbitrary angular momentum $l_{max}$ by calling `Tijklm(lmax)`, and access them using the Cartesian angular momenta `(i,j,k)` and the spherical ones `(l,m)`"
   ]
  },
  {
   "cell_type": "code",
   "execution_count": 18,
   "metadata": {},
   "outputs": [
    {
     "name": "stdout",
     "output_type": "stream",
     "text": [
      "Dict((0, 0)=>[(0, 0, 0)=>1.0],(1, 0)=>[(0, 0, 1)=>1.0],(1, -1)=>[(0, 1, 0)=>1.0],(2, 0)=>[(0, 0, 2)=>1.0, (2, 0, 0)=>-0.5, (0, 2, 0)=>-0.5],(2, 2)=>[(2, 0, 0)=>0.866025, (0, 2, 0)=>-0.866025],(1, 1)=>[(1, 0, 0)=>1.0],(2, -2)=>[(1, 1, 0)=>1.73205],(2, -1)=>[(0, 1, 1)=>1.73205],(2, 1)=>[(1, 0, 1)=>1.73205])\n",
      "\n",
      "accessing arbitrary coeff:\n",
      "Pair{Tuple{Int64,Int64,Int64},Float64}[(0, 0, 2)=>1.0, (2, 0, 0)=>-0.5, (0, 2, 0)=>-0.5]\n",
      "\n",
      "# of CGFs involved = 3\n",
      "iterate over the array and access coeffs\n",
      "(i,j,k) = (0, 0, 2)\tTijklm = 1.0\n",
      "(i,j,k) = (2, 0, 0)\tTijklm = -0.5\n",
      "(i,j,k) = (0, 2, 0)\tTijklm = -0.5\n"
     ]
    }
   ],
   "source": [
    "# as an example, consider the case lmax=2\n",
    "# first generate the coefficients\n",
    "T = Tijklm(2)\n",
    "println(T)\n",
    "\n",
    "# access for instance the coeffs for l=2 and m=0\n",
    "println(\"\\naccessing arbitrary coeff:\\n\",T[(2,0)])\n",
    "\n",
    "# length of T[(2,0)] tells me how many CGFs are needed\n",
    "println(\"\\n# of CGFs involved = \",length(T[(2,0)]))\n",
    "\n",
    "println(\"iterate over the array and access coeffs\")\n",
    "for coeff in T[(2,0)]\n",
    "    print(\"(i,j,k) = \",coeff.first)\n",
    "    println(\"\\tTijklm = \",coeff.second)\n",
    "end"
   ]
  },
  {
   "cell_type": "markdown",
   "metadata": {},
   "source": [
    "In practice, we will not transform the CGFs to SGFs directly, but rather we will compute integrals over CGFs and then transform them in the basis of SGFs.  \n",
    "Let's see how such a transformation looks like\n",
    "\n",
    "\\begin{align}\n",
    "\\langle G_{lm} | \\hat{O} | G_{l'm'} \\rangle &= \\langle\n",
    "\\sum_{\\substack{i ,j, k \\\\i +j +k =l }} T_{ijk}^{lm}G_{ijk} | \\hat{O} |\n",
    "\\sum_{\\substack{i',j',k'\\\\i'+j'+k'=l'}} T_{i'j'k'}^{l'm'}G_{i'j'k'} \\rangle \\\\ \n",
    "&= \\sum_{\\substack{i,j,k\\\\i+j+k=l}} \\sum_{\\substack{i',j',k'\\\\i'+j'+k'=l'}}\n",
    "T_{ijk}^{lm} T_{i'j'k'}^{l'm'} \\langle G_{ijk} | \\hat{O} | G_{i'j'k'} \\rangle\n",
    "\\end{align}\n",
    "\n",
    "Note that since for an SGF with a given $l$ we need several CGFs with the same total $l=i+j+k$, it is best to calculate integrals shell by shell and not simply one by one, otherwise we might recompute the same integral over CGFs several times.\n",
    "Nevertheless, for the purpose of this tutorial, we will not care about efficiency and we will actually generate every time on the fly all required CGFs for the integral that we want to compute.\n",
    "\n",
    "In the following we'll start with the overlap, but the same can be done for all other types of integrals, and it will be mostly a copy & paste work."
   ]
  },
  {
   "cell_type": "code",
   "execution_count": 19,
   "metadata": {},
   "outputs": [
    {
     "data": {
      "text/plain": [
       "normalization"
      ]
     },
     "execution_count": 19,
     "metadata": {},
     "output_type": "execute_result"
    }
   ],
   "source": [
    "\"\"\"Returns the overlap integral <Ga|Gb> of two spherical-harmonic GTOs.\"\"\"\n",
    "function overlap(Ga::SGF, Gb::SGF)\n",
    "    # this returns an array telling us which functions we need\n",
    "    Ta=T[(Ga.l,Ga.m)]\n",
    "    Tb=T[(Gb.l,Gb.m)]\n",
    "    \n",
    "    # initialize arrays of CGFs\n",
    "    CGFa=Vector{CGF}(undef,length(Ta))\n",
    "    CGFb=Vector{CGF}(undef,length(Tb))\n",
    "        \n",
    "    # generate the functions\n",
    "    for (it,ijk) in enumerate(Ta)\n",
    "        CGFa[it]=CGF(Ga.A,Ga.α,ijk.first)\n",
    "    end\n",
    "    for (it,ijk) in enumerate(Tb)\n",
    "        CGFb[it]=CGF(Gb.A,Gb.α,ijk.first)\n",
    "    end\n",
    "        \n",
    "    # compute integrals in CGF basis and accumulate\n",
    "    Sab = 0.0\n",
    "    for (ia,CGa) in enumerate(CGFa)\n",
    "        for (ib,CGb) in enumerate(CGFb)\n",
    "            Sab += Ta[ia].second * Tb[ib].second * overlap(CGa,CGb)\n",
    "        end\n",
    "    end\n",
    "    \n",
    "    return Sab\n",
    "end\n",
    "\n",
    "\n",
    "\"\"\"Returns the self-overlap integral <Ga|Ga> of a `SGF` Ga.\"\"\"\n",
    "function overlap(Ga::SGF)\n",
    "    return overlap(Ga,Ga)\n",
    "end\n",
    "\n",
    "\n",
    "\"\"\"Returns the normalization factor of a `SGF` Ga.\"\"\"\n",
    "function normalization(Ga::SGF)\n",
    "    return 1.0/sqrt(overlap(Ga))\n",
    "end"
   ]
  },
  {
   "cell_type": "markdown",
   "metadata": {},
   "source": [
    "Let's do a quick test of our implementation."
   ]
  },
  {
   "cell_type": "code",
   "execution_count": 20,
   "metadata": {},
   "outputs": [
    {
     "data": {
      "text/plain": [
       "0.09310054997897052"
      ]
     },
     "execution_count": 20,
     "metadata": {},
     "output_type": "execute_result"
    }
   ],
   "source": [
    "# create two d shells with different exponent (STO-3G for Titanium)\n",
    "GaShell = [SGF(zeros(3),0.502076728,2,m) for m=-2:2]\n",
    "Na = normalization(GaShell[1])\n",
    "GbShell = [SGF(zeros(3),0.193716810,2,m) for m=-2:2]\n",
    "Nb = normalization(GbShell[1])"
   ]
  },
  {
   "cell_type": "code",
   "execution_count": 25,
   "metadata": {},
   "outputs": [
    {
     "name": "stdout",
     "output_type": "stream",
     "text": [
      "0.6820466292246175\t0.0\t0.0\t0.0\t0.0\t\n",
      "0.0\t0.6820466292246175\t0.0\t0.0\t0.0\t\n",
      "0.0\t0.0\t0.6820466292246176\t0.0\t0.0\t\n",
      "0.0\t0.0\t0.0\t0.6820466292246175\t0.0\t\n",
      "0.0\t0.0\t8.151538340316786e-17\t0.0\t0.6820466292246175\t\n"
     ]
    }
   ],
   "source": [
    "# overlap between the two shells, only off-diag elements should be = 0\n",
    "# diagonal entries should give ≈ 0.6820466292246176\n",
    "for i=1:5\n",
    "    for j=1:5\n",
    "        print(Na*Nb*overlap(GaShell[i],GbShell[j]),\"\\t\")\n",
    "    end\n",
    "    println()\n",
    "end"
   ]
  },
  {
   "cell_type": "markdown",
   "metadata": {},
   "source": [
    "If you didn't do any mistake, you should get the same numbers as marked in the comments.\n",
    "Let's now do the same for all other integrals. As I said above, this is mostly a copy & paste of the overlap function, simply changing the call to the other types of integrals."
   ]
  },
  {
   "cell_type": "code",
   "execution_count": 22,
   "metadata": {},
   "outputs": [
    {
     "data": {
      "text/plain": [
       "repulsion"
      ]
     },
     "execution_count": 22,
     "metadata": {},
     "output_type": "execute_result"
    }
   ],
   "source": [
    "\"\"\"Returns the kinetic energy integral <Ga|T|Gb> of two spherical-harmonic GTOs.\"\"\"\n",
    "function kinetic(Ga::SGF, Gb::SGF)\n",
    "    # this returns an array telling us which functions we need\n",
    "    Ta=T[(Ga.l,Ga.m)]\n",
    "    Tb=T[(Gb.l,Gb.m)]\n",
    "    \n",
    "    # initialize arrays of CGFs\n",
    "    CGFa=Vector{CGF}(undef,length(Ta))\n",
    "    CGFb=Vector{CGF}(undef,length(Tb))\n",
    "        \n",
    "    # generate the functions\n",
    "    for (it,ijk) in enumerate(Ta)\n",
    "        CGFa[it]=CGF(Ga.A,Ga.α,ijk.first)\n",
    "    end\n",
    "    for (it,ijk) in enumerate(Tb)\n",
    "        CGFb[it]=CGF(Gb.A,Gb.α,ijk.first)\n",
    "    end\n",
    "        \n",
    "    # compute integrals in CGF basis and accumulate\n",
    "    Tab = 0.0\n",
    "    for (ia,CGa) in enumerate(CGFa)\n",
    "        for (ib,CGb) in enumerate(CGFb)\n",
    "            Tab += Ta[ia].second * Tb[ib].second * kinetic(CGa,CGb)\n",
    "        end\n",
    "    end\n",
    "    \n",
    "    return Tab\n",
    "end\n",
    "\n",
    "\n",
    "\"\"\"Returns the nuclear attraction energy integral of the distribution Ωab from center C.\"\"\"\n",
    "function attraction(Ga::SGF, Gb::SGF, C::Vector{Ty}) where {Ty<:Real}\n",
    "    # this returns an array telling us which functions we need\n",
    "    Ta=T[(Ga.l,Ga.m)]\n",
    "    Tb=T[(Gb.l,Gb.m)]\n",
    "    \n",
    "    # initialize arrays of CGFs\n",
    "    CGFa=Vector{CGF}(undef,length(Ta))\n",
    "    CGFb=Vector{CGF}(undef,length(Tb))\n",
    "        \n",
    "    # generate the functions\n",
    "    for (it,ijk) in enumerate(Ta)\n",
    "        CGFa[it]=CGF(Ga.A,Ga.α,ijk.first)\n",
    "    end\n",
    "    for (it,ijk) in enumerate(Tb)\n",
    "        CGFb[it]=CGF(Gb.A,Gb.α,ijk.first)\n",
    "    end\n",
    "        \n",
    "    # compute integrals in CGF basis and accumulate\n",
    "    Vab = 0.0\n",
    "    for (ia,CGa) in enumerate(CGFa)\n",
    "        for (ib,CGb) in enumerate(CGFb)\n",
    "            Vab += Ta[ia].second * Tb[ib].second * attraction(CGa,CGb,C)\n",
    "        end\n",
    "    end\n",
    "    \n",
    "    return Vab\n",
    "end\n",
    "\n",
    "\n",
    "\"\"\"Returns the two-electron integral gabcd = < Ga(r1) Gb(r1) | 1/r12 | Gc(r2) Gd(r2) >.\"\"\"\n",
    "function repulsion(Ga::SGF, Gb::SGF, Gc::SGF, Gd::SGF)\n",
    "    # this returns an array telling us which functions we need\n",
    "    Ta=T[(Ga.l,Ga.m)]\n",
    "    Tb=T[(Gb.l,Gb.m)]\n",
    "    Tc=T[(Gc.l,Gc.m)]\n",
    "    Td=T[(Gd.l,Gd.m)]\n",
    "    \n",
    "    # initialize arrays of CGFs\n",
    "    CGFa=Vector{CGF}(undef,length(Ta))\n",
    "    CGFb=Vector{CGF}(undef,length(Tb))\n",
    "    CGFc=Vector{CGF}(undef,length(Tc))\n",
    "    CGFd=Vector{CGF}(undef,length(Td))\n",
    "        \n",
    "    # generate the functions\n",
    "    for (it,ijk) in enumerate(Ta)\n",
    "        CGFa[it]=CGF(Ga.A,Ga.α,ijk.first)\n",
    "    end\n",
    "    for (it,ijk) in enumerate(Tb)\n",
    "        CGFb[it]=CGF(Gb.A,Gb.α,ijk.first)\n",
    "    end\n",
    "    for (it,ijk) in enumerate(Tc)\n",
    "        CGFc[it]=CGF(Gc.A,Gc.α,ijk.first)\n",
    "    end\n",
    "    for (it,ijk) in enumerate(Td)\n",
    "        CGFd[it]=CGF(Gd.A,Gd.α,ijk.first)\n",
    "    end\n",
    "        \n",
    "    # compute integrals in CGF basis and accumulate\n",
    "    gabcd = 0.0\n",
    "    for (ia,CGa) in enumerate(CGFa)\n",
    "        for (ib,CGb) in enumerate(CGFb)\n",
    "            for (ic,CGc) in enumerate(CGFc)\n",
    "                for (id,CGd) in enumerate(CGFd)\n",
    "                    gabcd += Ta[ia].second * Tb[ib].second * \n",
    "                             Tc[ic].second * Td[id].second *\n",
    "                             repulsion(CGa,CGb,Cgc,Cgd)\n",
    "                end\n",
    "            end\n",
    "        end\n",
    "    end\n",
    "    \n",
    "    return gabcd\n",
    "end"
   ]
  },
  {
   "cell_type": "code",
   "execution_count": 28,
   "metadata": {},
   "outputs": [
    {
     "name": "stdout",
     "output_type": "stream",
     "text": [
      "0.3289066824341946\t0.04415303241711899\t-0.02040561086522047\t0.04415303241711899\t0.0\t\n",
      "0.04415303241711899\t0.3289066824341946\t0.010202805432610233\t0.04415303241711899\t-0.017671777389020676\t\n",
      "-0.02040561086522047\t0.010202805432610233\t0.30242542740609624\t0.010202805432610235\t0.0\t\n",
      "0.04415303241711899\t0.04415303241711899\t0.010202805432610235\t0.3289066824341946\t0.017671777389020676\t\n",
      "0.0\t-0.017671777389020676\t0.0\t0.017671777389020676\t0.3024254274060963\t\n",
      "0.6673737436678823\t0.0\t0.0\t0.0\t0.0\t\n",
      "0.0\t0.6673737436678823\t0.0\t0.0\t0.0\t\n",
      "0.0\t0.0\t0.6673737436678825\t0.0\t2.0378845850791965e-17\t\n",
      "0.0\t0.0\t0.0\t0.6673737436678823\t0.0\t\n",
      "0.0\t0.0\t-2.0378845850791965e-17\t0.0\t0.6673737436678824\t\n"
     ]
    }
   ],
   "source": [
    "# test that the functions work\n",
    "for i=1:5\n",
    "    for j=1:5\n",
    "        print(Na*Nb*attraction(GaShell[i],GbShell[j],ones(3)),\"\\t\")\n",
    "    end\n",
    "    println()\n",
    "end\n",
    "\n",
    "for i=1:5\n",
    "    for j=1:5\n",
    "        print(Na*Nb*kinetic(GaShell[i],GbShell[j]),\"\\t\")\n",
    "    end\n",
    "    println()\n",
    "end"
   ]
  },
  {
   "cell_type": "markdown",
   "metadata": {},
   "source": [
    "Now we have a simple (although not efficient) way to compute integrals over SGFs! We shall now move to the last part of this tutorial, where we will compute integrals over contracted GTOs!"
   ]
  },
  {
   "cell_type": "markdown",
   "metadata": {},
   "source": [
    "## Contracted Gaussian functions\n",
    "\n",
    "In electronic structure theory, the basis functions used for molecular calculations are usually composed by _fixed_ linear combinations over simple Gaussian-type orbitals centered on the atomic nuclei.\n",
    "Such basis function are thus called _atomic orbitals (AOs)_ and are given by\n",
    "\n",
    "$$\n",
    "\\chi_{\\mu}(\\mathbf{r}) = \\sum_{a} d_{a\\mu} G_a(\\mathbf{r})\n",
    "$$\n",
    "\n",
    "Another common name for $\\chi_{\\mu}$ is _contraction_ whereas the GTOs $G_a$ are called _primitives_.\n",
    "The coefficients $d_{a\\mu}$ of the superposition are named the _contraction coefficients_.\n",
    "Note that all primitives forming a single AO are centered on the same nucleus and all have the same angular momentum.\n",
    "\n",
    "The contraction coefficients as well as the exponents of the primitives are usually preoptimized and do not change during a quantum chemical calculation. A large number of _standard_ basis sets are available which provide sets of _optimal_ coefficients and exponents.\n",
    "\n",
    "In order to represent _contracted GTOs (CGTOs)_, we shall introduce a class defining this type of functions."
   ]
  },
  {
   "cell_type": "code",
   "execution_count": 38,
   "metadata": {},
   "outputs": [
    {
     "data": {
      "text/plain": [
       "norms (generic function with 1 method)"
      ]
     },
     "execution_count": 38,
     "metadata": {},
     "output_type": "execute_result"
    }
   ],
   "source": [
    "\"\"\"Contracted Gaussian-type orbital.\"\"\"\n",
    "struct CGTO{GTO<:BasisFunction}\n",
    "    funcs::Vector{GTO}          # primitive GTOs\n",
    "    coefs::Vector{Float64}      # contraction coefs\n",
    "    norms::Vector{Float64}      # normalization factors\n",
    "end\n",
    "\n",
    "\n",
    "\"\"\"\n",
    "Construct a `CGTO` centered on `A` with angular momenutm `l`.\n",
    "If `l` is a tuple with 3 entries (lx,ly,lz), then this `CGTO` will be made of `CGF`,\n",
    "if it has only 2 entries (l,m), then this `CGTO` will be made of `SGF`.\n",
    "\"\"\"\n",
    "function CGTO(A::AbstractVector{T}, l::Tuple{Int,Int,Int},\n",
    "              α::AbstractVector{T}, d::AbstractVector{T} ) where {T<:Real}\n",
    "    \n",
    "    # number of coefs and exponents must match\n",
    "    @assert(length(d) == length(α))\n",
    "    n = length(d)\n",
    "    \n",
    "    # initialize data vector\n",
    "    funcs = Vector{CGF}(n)\n",
    "    norms = Vector{Float64}(n)\n",
    "    \n",
    "    for i in 1:n\n",
    "        funcs[i] = CGF(A,α[i],l)\n",
    "        norms[i] = normalization(funcs[i])\n",
    "    end\n",
    "    \n",
    "    return CGTO(funcs, d, norms)\n",
    "end\n",
    "\n",
    "\n",
    "\"\"\"\n",
    "Construct a `CGTO` centered on `A` with angular momenutm `l`.\n",
    "If `l` is a tuple with 3 entries (lx,ly,lz), then this `CGTO` will be made of `CGF`,\n",
    "if it has only 2 entries (l,m), then this `CGTO` will be made of `SGF`.\n",
    "\"\"\"\n",
    "function CGTO(A::AbstractVector{T}, l::Tuple{Int,Int},\n",
    "              α::AbstractVector{T}, d::AbstractVector{T} ) where {T<:Real}\n",
    "    \n",
    "    # number of coefs and exponents must match\n",
    "    @assert(length(d) == length(α))\n",
    "    n = length(d)\n",
    "    \n",
    "    # check quantum numbers are valid\n",
    "    @assert(abs(m) <= l && l >= 0)\n",
    "    \n",
    "    # initialize data vector\n",
    "    funcs = Vector{SGF}(n)\n",
    "    norms = Vector{Float64}(n)\n",
    "    \n",
    "    for i in 1:n\n",
    "        funcs[i] = SGF(A,α[i],l,m)\n",
    "        norms[i] = normalization(funcs[i])\n",
    "    end\n",
    "    \n",
    "    return CGTO(funcs, d, norms)\n",
    "end\n",
    "\n",
    "primitives(cgto::CGTO) = cgto.funcs\n",
    "nprims(cgto::CGTO) = length(cgto.funcs)\n",
    "center(cgto::CGTO) = center(cgto.funcs[1])\n",
    "shell(cgto::CGTO) = ijk(cgto.funcs[1])\n",
    "ltot(cgto::CGTO) = ltot(cgto.funcs[1])\n",
    "exponents(cgto::CGTO) = map(x->alpha(x),primitives(cgto))\n",
    "coefs(cgto::CGTO) = cgto.coefs\n",
    "norms(cgto::CGTO) = cgto.norms"
   ]
  },
  {
   "cell_type": "markdown",
   "metadata": {},
   "source": [
    "Note that until now we have worked with unnormalized primitives GTOs, but when dealing with contracted GTOs, it is more convenient to normalize them.\n",
    "This is taken care of by the explicit constructor function defined above."
   ]
  },
  {
   "cell_type": "markdown",
   "metadata": {},
   "source": [
    "### One-electron integrals over contracted GTOs\n",
    "\n",
    "The idea is now to define functions that compute the integrals over contracted GTOs by exploiting those implemented above for primitive GTOs.\n",
    "In general, we have that such integrals are given by\n",
    "\n",
    "$$\n",
    "\\begin{aligned}\n",
    "O_{\\mu\\nu} &= \\int \\chi_{\\mu}(\\mathbf{r}) \\hat{O}(\\mathbf{r}) \\chi_{\\nu}(\\mathbf{r}) d\\mathbf{r} \\\\\n",
    "&= <\\chi_{\\mu}|\\hat{O}(\\mathbf{r})|\\chi_{\\nu}> \\\\\n",
    "&= <\\sum_{a} d_{a\\mu}^* G_a|\\hat{O}(\\mathbf{r})|\\sum_{b} d_{b\\nu} G_b> \\\\\n",
    "&= \\sum_{ab} d_{a\\mu}^* d_{b\\nu}<G_a|\\hat{O}(\\mathbf{r})|G_b>\n",
    "\\end{aligned}\n",
    "$$\n",
    "\n",
    "In practical terms however, we have to take into consideration the normalization coefficients of the primitives that we have neglected until now.\n",
    "Consequently, the final general expression is given by\n",
    "\n",
    "$$\n",
    "\\begin{aligned}\n",
    "O_{\\mu\\nu} &= \\sum_{ab} d_{a\\mu}^* d_{b\\nu} <G_a|\\hat{O}(\\mathbf{r})|G_b> \\\\\n",
    "&= \\sum_{ab} d_{a\\mu}^* d_{b\\nu} <N_a \\tilde{G}_a|\\hat{O}(\\mathbf{r})|N_b \\tilde{G}_b> \\\\\n",
    "&= \\sum_{ab} N_a N_b d_{a\\mu}^* d_{b\\nu} <\\tilde{G}_a|\\hat{O}(\\mathbf{r})|\\tilde{G}_b> \\\\\n",
    "&= \\sum_{ab} N_a N_b d_{a\\mu}^* d_{b\\nu} O_{ab} \n",
    "\\end{aligned}\n",
    "$$\n",
    "\n",
    "where the functions $\\tilde{G}_a$ and $\\tilde{G}_b$ are the unnormalized GTOs that we have worked with so far and therefore $O_{ab}$ is the type of integrals that we can compute with the functions implemented until now.\n",
    "\n",
    "In the following we implement all the one-electron integrals over CGTOs according to the simple double sum given on the right-hand side of last equation."
   ]
  },
  {
   "cell_type": "code",
   "execution_count": 39,
   "metadata": {},
   "outputs": [
    {
     "data": {
      "text/plain": [
       "nuclear"
      ]
     },
     "execution_count": 39,
     "metadata": {},
     "output_type": "execute_result"
    }
   ],
   "source": [
    "\"\"\"Returns the overlap integral between two contracted GTOs.\"\"\"\n",
    "function overlap(μ::CGTO, ν::CGTO)\n",
    "    Gμ = primitives(μ); dμ = coefs(μ); Nμ = norms(μ)\n",
    "    Gν = primitives(ν); dν = coefs(ν); Nν = norms(ν)\n",
    "    S = 0.0\n",
    "    for a in 1:nprims(μ)\n",
    "        for b in 1:nprims(ν)\n",
    "            S += Nμ[a] * Nν[b] * dμ[a] * dν[b] * overlap(Gμ[a],Gν[b])\n",
    "        end\n",
    "    end\n",
    "    return S\n",
    "end\n",
    "\n",
    "\n",
    "\"\"\"Returns the kinetic energy integral between two contracted GTOs.\"\"\"\n",
    "function kinetic(μ::CGTO, ν::CGTO)\n",
    "    Gμ = primitives(μ); dμ = coefs(μ); Nμ = norms(μ)\n",
    "    Gν = primitives(ν); dν = coefs(ν); Nν = norms(ν)\n",
    "    T = 0.0\n",
    "    for a in 1:nprims(μ)\n",
    "        for b in 1:nprims(ν)\n",
    "            T += Nμ[a] * Nν[b] * dμ[a] * dν[b] * kinetic(Gμ[a],Gν[b])\n",
    "        end\n",
    "    end\n",
    "    return T\n",
    "end\n",
    "\n",
    "\n",
    "\"\"\"Returns the nuclear attraction integral between two contracted GTOs and the nucleus centered at `C`.\"\"\"\n",
    "function nuclear(μ::CGTO, ν::CGTO, C::Vector{Real})\n",
    "    Gμ = primitives(μ); dμ = coefs(μ); Nμ = norms(μ)\n",
    "    Gν = primitives(ν); dν = coefs(ν); Nν = norms(ν)\n",
    "    V = 0.0\n",
    "    for a in 1:nprims(μ)\n",
    "        for b in 1:nprims(ν)\n",
    "            V += Nμ[a] * Nν[b] * dμ[a] * dν[b] * kinetic(Gμ[a],Gν[b],C)\n",
    "        end\n",
    "    end\n",
    "    return V\n",
    "end"
   ]
  },
  {
   "cell_type": "markdown",
   "metadata": {},
   "source": [
    "### Two-electron integrals over contracted GTOs\n",
    "\n",
    "Analogously to the one-electron case, for the two-electron integrals we need to loop over the primitives of each atomic orbitals, but they are now four instead of two.\n",
    "\n",
    "The corresponding implementation of the function is given below."
   ]
  },
  {
   "cell_type": "code",
   "execution_count": 40,
   "metadata": {},
   "outputs": [
    {
     "data": {
      "text/plain": [
       "repulsion"
      ]
     },
     "execution_count": 40,
     "metadata": {},
     "output_type": "execute_result"
    }
   ],
   "source": [
    "\"\"\"Returns the two-electron repulsion integral over four contracted GTOs.\"\"\"\n",
    "function repulsion(μ::CGTO, ν::CGTO, λ::CGTO, σ::CGTO)\n",
    "    Gμ = primitives(μ); dμ = coefs(μ); Nμ = norms(μ)\n",
    "    Gν = primitives(ν); dν = coefs(ν); Nν = norms(ν)\n",
    "    Gλ = primitives(λ); dλ = coefs(λ); Nλ = norms(λ)\n",
    "    Gσ = primitives(σ); dσ = coefs(σ); Nσ = norms(σ)\n",
    "    V = 0.0\n",
    "    for a in 1:nprims(μ)\n",
    "        for b in 1:nprims(ν)\n",
    "            for c in 1:nprims(λ)\n",
    "                for d in 1:nprims(σ)\n",
    "                    V += Nμ[a] * Nν[b] * Nλ[c] * Nσ[d] *\n",
    "                         dμ[a] * dν[b] * dλ[c] * dσ[d] *\n",
    "                         repulsion(Gμ[a],Gν[b],Gλ[c],Gσ[d])\n",
    "                end\n",
    "            end\n",
    "        end\n",
    "    end\n",
    "    return V\n",
    "end"
   ]
  },
  {
   "cell_type": "markdown",
   "metadata": {},
   "source": [
    "And with this function we are done computing integrals over contractions! All the hard work was actually already done before."
   ]
  },
  {
   "cell_type": "markdown",
   "metadata": {},
   "source": [
    "## Appendix"
   ]
  },
  {
   "cell_type": "markdown",
   "metadata": {},
   "source": [
    "### Hermite Gaussian expansion coefficients from alternative recurrence relations\n",
    "\n",
    "The Hermite Gaussian expansion coefficients can be obtained with a number of recursive relations. The ones presented above turn out to be the most efficient and easiest to implement. However, before deciding for to employ those relations, I tried out a different set.\n",
    "In particular, the recursion given by\n",
    "\n",
    "$$\n",
    "\\begin{aligned}\n",
    "    E_t^{ij} &= 0 \\, , \\quad t < 0 \\quad \\text{or} \\quad t > i+j \\\\\n",
    "    E_t^{i+1,j} &= \\frac{1}{2p}E_{t-1}^{ij} + X_{PA}E_t^{ij} + (t+1)E_{t+1}^{ij} \\\\\n",
    "    E_t^{i,j+1} &= \\frac{1}{2p}E_{t-1}^{ij} + X_{PB}E_t^{ij} + (t+1)E_{t+1}^{ij} \\\\\n",
    "    E_0^{00} &= K_{\\alpha\\beta}^x\n",
    "\\end{aligned}\n",
    "$$\n",
    "\n",
    "which is a three-term recursion relation.\n",
    "A simple Julia implementation is given by the following function."
   ]
  },
  {
   "cell_type": "code",
   "execution_count": null,
   "metadata": {},
   "outputs": [],
   "source": [
    "\"\"\"\n",
    "Returns the Hermite expansion coefficients for a 1D Cartesian overlap distribution\n",
    "using a three-term recursion relation.\n",
    "\"\"\"\n",
    "\n",
    "function Etij_3tr(t::Int ,i::Int, j::Int, Kαβx, XPA, XPB, α, β)\n",
    "    p = α + β\n",
    "    if t < 0 || t > i+j\n",
    "        return 0.0\n",
    "    elseif i == j == t == 0\n",
    "        return Kαβx\n",
    "    elseif j == 0\n",
    "        return (1/(2*p)) * Etij_3tr(t-1, i-1, j, Kαβx, XPA, XPB, α, β) +\n",
    "                     XPA * Etij_3tr(t  , i-1, j, Kαβx, XPA, XPB, α, β) +\n",
    "                   (t+1) * Etij_3tr(t+1, i-1, j, Kαβx, XPA, XPB, α, β)\n",
    "    else\n",
    "        return (1/(2*p)) * Etij_3tr(t-1, i, j-1, Kαβx, XPA, XPB, α, β) +\n",
    "                     XPB * Etij_3tr(t  , i, j-1, Kαβx, XPA, XPB, α, β) +\n",
    "                   (t+1) * Etij_3tr(t+1, i, j-1, Kαβx, XPA, XPB, α, β)\n",
    "    end\n",
    "end"
   ]
  },
  {
   "cell_type": "markdown",
   "metadata": {},
   "source": [
    "### Everything from here down is outdated..."
   ]
  },
  {
   "cell_type": "markdown",
   "metadata": {},
   "source": [
    "As in this formula above we compute a lot of zeros (ending up in the first `if` branch), I figured one could explicitly expand the relations for the coefficients (at least for the lowest angular momenta) and thus avoid the computation of zeros.\n",
    "After tedious algebraic manipulation, one can get the following explicit form for the expansion coefficients necessary to compute overalps up to $l = 2$, i.e. the $d$ shell.\n",
    "\n",
    "$$\n",
    "\\begin{aligned}\n",
    "    \\hline\n",
    "    E_0^{00} &= K_{\\alpha\\beta}^x \\\\\n",
    "    \\hline\n",
    "    E_0^{01} &= X_{PB} E_0^{00} \\\\\n",
    "    E_1^{01} &= E_1^{01} = \\frac{1}{2p} E_0^{00} \\\\\n",
    "    \\hline\n",
    "    E_0^{10} &= X_{PA} E_0^{00} \\\\\n",
    "    E_1^{10} &= E_1^{01} = \\frac{1}{2p} E_0^{00} \\\\\n",
    "    \\hline\n",
    "    E_0^{11} &= \\left( X_{PA}X_{PB} + \\frac{1}{2p} \\right) E_0^{00} \\\\\n",
    "    E_1^{11} &= \\frac{X_{PA} + X_{PB}}{2p} E_0^{00} \\\\\n",
    "    E_2^{11} &= E_2^{02} = E_2^{20} = \\frac{1}{4p^2} E_0^{00} \\\\\n",
    "    \\hline\n",
    "    E_0^{02} &= \\left( X_{PB}^2 + \\frac{1}{2p} \\right) E_0^{00} \\\\\n",
    "    E_1^{02} &= \\frac{X_{PB}}{p} E_0^{00} \\\\\n",
    "    E_2^{02} &= E_2^{11} = E_2^{20} = \\frac{1}{4p^2} E_0^{00} \\\\\n",
    "    \\hline\n",
    "    E_0^{20} &= \\left( X_{PA}^2 + \\frac{1}{2p} \\right) E_0^{00} \\\\\n",
    "    E_1^{20} &= \\frac{X_{PA}}{p} E_0^{00} \\\\\n",
    "    E_2^{20} &= E_2^{11} = E_2^{02} = \\frac{1}{4p^2} E_0^{00} \\\\\n",
    "    \\hline\n",
    "    E_0^{12} &= \\left( X_{PA}X_{PB}^2 + \\frac{X_{PA}}{2p} + \\frac{X_{PB}}{p} \\right) E_0^{00} \\\\\n",
    "    E_1^{12} &= \\left( \\frac{X_{PB}^2}{2p} + \\frac{X_{PA}X_{PB}}{p} + \\frac{3}{4p^2} \\right) E_0^{00} \\\\\n",
    "    E_2^{12} &= \\left( \\frac{X_{PB}}{2p^2} + \\frac{X_{PA}}{4p^2} \\right) E_0^{00} \\\\\n",
    "    E_3^{12} &= E_3^{21} = \\frac{1}{8p^3} E_0^{00} \\\\\n",
    "    \\hline\n",
    "    E_0^{21} &= \\left( X_{PB}X_{PA}^2 + \\frac{X_{PB}}{2p} + \\frac{X_{PA}}{p} \\right) E_0^{00} \\\\\n",
    "    E_1^{21} &= \\left( \\frac{X_{PA}^2}{2p} + \\frac{X_{PB}X_{PA}}{p} + \\frac{3}{4p^2} \\right) E_0^{00} \\\\\n",
    "    E_2^{21} &= \\left( \\frac{X_{PA}}{2p^2} + \\frac{X_{PB}}{4p^2} \\right) E_0^{00} \\\\\n",
    "    E_3^{21} &= E_3^{12} = \\frac{1}{8p^3} E_0^{00} \\\\\n",
    "    \\hline\n",
    "    E_0^{22} &= \\left( X_{PB}^2X_{PA}^2 + \\frac{2X_{PB}X_{PA}}{p} + \\frac{X_{PB}^2}{2p} + \\frac{X_{PA}^2}{2p} + \\frac{3}{4p^2} \\right) E_0^{00} \\\\\n",
    "    E_1^{22} &= \\left( \\frac{X_{PB}X_{PA}^2}{p} + \\frac{X_{PB}^2X_{PA}}{p} + \\frac{3X_{PA}}{2p^2} + \\frac{3X_{PB}}{2p^2} \\right) E_0^{00} \\\\\n",
    "    E_2^{22} &= \\left( \\frac{X_{PB}X_{PA}}{p^2} + \\frac{X_{PA}^2}{4p^2} + \\frac{X_{PB}^2}{4p^2} + \\frac{3}{4p^3} \\right) E_0^{00} \\\\\n",
    "    E_3^{22} &= \\left( \\frac{X_{PA}}{4p^3} + \\frac{X_{PB}}{4p^3} \\right) E_0^{00} \\\\\n",
    "    E_4^{22} &= \\frac{1}{16p^4} E_0^{00} \\\\\n",
    "    \\hline\n",
    "\\end{aligned}\n",
    "$$\n",
    "\n",
    "which I then implemented in the following function."
   ]
  },
  {
   "cell_type": "code",
   "execution_count": null,
   "metadata": {},
   "outputs": [],
   "source": [
    "\"\"\"\n",
    "Returns the Hermite expansion coefficients for a 1D Cartesian overlap distribution\n",
    "using a three-term recursion relation with hard-coded coefficients up to l = 2.\n",
    "\"\"\"\n",
    "function Etij_3te(t::Int ,i::Int, j::Int, Kαβx, XPA, XPB, α, β)\n",
    "    if t > i + j\n",
    "        return 0.0\n",
    "    end\n",
    "    p = α + β\n",
    "    if t == 0\n",
    "        if i == j == 0\n",
    "            return Kαβx\n",
    "        elseif i == 0 && j == 1\n",
    "            return XPB*Kαβx\n",
    "        elseif i == 1 && j == 0\n",
    "            return XPA*Kαβx\n",
    "        elseif i == 1 && j == 1\n",
    "            return (XPA*XPB + 1/(2*p))*Kαβx\n",
    "        elseif i == 0 && j == 2\n",
    "            return (XPB^2 + 1/(2*p))*Kαβx\n",
    "        elseif i == 2 && j == 0\n",
    "            return (XPA^2 + 1/(2*p))*Kαβx\n",
    "        elseif i == 1 && j == 2\n",
    "            return (XPA*XPB^2 + XPA/(2*p) + XPB/p)*Kαβx\n",
    "        elseif i == 2 && j == 1\n",
    "            return (XPB*XPA^2 + XPB/(2*p) + XPA/p)*Kαβx\n",
    "        elseif i == 2 && j == 2\n",
    "            return (XPA^2*XPB^2 + 2*XPA*XPB/p + XPA^2/(2*p) + XPB^2/(2*p) + 3/(4*p^2))*Kαβx\n",
    "        elseif i > 2\n",
    "            return   XPA * Etij_3te(t  , i-1, j, Kαβx, XPA, XPB, α, β) +\n",
    "                   (t+1) * Etij_3te(t+1, i-1, j, Kαβx, XPA, XPB, α, β)\n",
    "        else\n",
    "            return   XPB * Etij_3te(t  , i, j-1, Kαβx, XPA, XPB, α, β) +\n",
    "                   (t+1) * Etij_3te(t+1, i, j-1, Kαβx, XPA, XPB, α, β)\n",
    "        end\n",
    "    elseif t == 1\n",
    "        if i == 0 && j == 1\n",
    "            return Kαβx/(2*p)\n",
    "        elseif i == 1 && j == 0\n",
    "            return Kαβx/(2*p)\n",
    "        elseif i == 1 && j == 1\n",
    "            return ( (XPA + XPB)/(2*p) )*Kαβx\n",
    "        elseif i == 0 && j == 2\n",
    "            return XPB*Kαβx/p\n",
    "        elseif i == 2 && j == 0\n",
    "            return XPA*Kαβx/p\n",
    "        elseif i == 1 && j == 2\n",
    "            return (XPA*XPB/p + XPB^2/(2*p) + 3/(4*p^2))*Kαβx\n",
    "        elseif i == 2 && j == 1\n",
    "            return (XPA*XPB/p + XPA^2/(2*p) + 3/(4*p^2))*Kαβx\n",
    "        elseif i == 2 && j == 2\n",
    "            return (XPA*XPB^2/p + XPB*XPA^2/p + 3*XPA/(2*p^2) + 3*XPB/(2*p^2))*Kαβx\n",
    "        elseif i > 2\n",
    "            return (1/(2*p)) * Etij_3te(t-1, i-1, j, Kαβx, XPA, XPB, α, β) +\n",
    "                         XPA * Etij_3te(t  , i-1, j, Kαβx, XPA, XPB, α, β) +\n",
    "                       (t+1) * Etij_3te(t+1, i-1, j, Kαβx, XPA, XPB, α, β)\n",
    "        else\n",
    "            return (1/(2*p)) * Etij_3te(t-1, i, j-1, Kαβx, XPA, XPB, α, β) +\n",
    "                         XPB * Etij_3te(t  , i, j-1, Kαβx, XPA, XPB, α, β) +\n",
    "                       (t+1) * Etij_3te(t+1, i, j-1, Kαβx, XPA, XPB, α, β)\n",
    "        end\n",
    "    elseif t == 2\n",
    "        if i == 1 && j == 1\n",
    "            return Kαβx/(4*p^2)\n",
    "        elseif i == 0 && j == 2\n",
    "            return Kαβx/(4*p^2)\n",
    "        elseif i == 2 && j == 0\n",
    "            return Kαβx/(4*p^2)\n",
    "        elseif i == 1 && j == 2\n",
    "            return (XPB/(2*p^2) + XPA/(4*p^2))*Kαβx\n",
    "        elseif i == 2 && j == 1\n",
    "            return (XPA/(2*p^2) + XPB/(4*p^2))*Kαβx\n",
    "        elseif i == 2 && j == 2\n",
    "            return (XPA*XPB/(p^2) + XPA^2/(4*p^2) + XPB^2/(4*p^2) + 3/(4*p^3))*Kαβx\n",
    "        elseif i > 2\n",
    "            return (1/(2*p)) * Etij_3te(t-1, i-1, j, Kαβx, XPA, XPB, α, β) +\n",
    "                         XPA * Etij_3te(t  , i-1, j, Kαβx, XPA, XPB, α, β) +\n",
    "                       (t+1) * Etij_3te(t+1, i-1, j, Kαβx, XPA, XPB, α, β)\n",
    "        else\n",
    "            return (1/(2*p)) * Etij_3te(t-1, i, j-1, Kαβx, XPA, XPB, α, β) +\n",
    "                         XPB * Etij_3te(t  , i, j-1, Kαβx, XPA, XPB, α, β) +\n",
    "                       (t+1) * Etij_3te(t+1, i, j-1, Kαβx, XPA, XPB, α, β)\n",
    "        end\n",
    "    elseif t == 3\n",
    "        if i == 1 && j == 2\n",
    "            return Kαβx/(8*p^3)\n",
    "        elseif i == 2 && j == 1\n",
    "            return Kαβx/(8*p^3)\n",
    "        elseif i == 2 && j == 2\n",
    "            return (XPA/(4*p^3) + XPB/(4*p^3))*Kαβx\n",
    "        elseif i > 2\n",
    "            return (1/(2*p)) * Etij_3te(t-1, i-1, j, Kαβx, XPA, XPB, α, β) +\n",
    "                         XPA * Etij_3te(t  , i-1, j, Kαβx, XPA, XPB, α, β) +\n",
    "                       (t+1) * Etij_3te(t+1, i-1, j, Kαβx, XPA, XPB, α, β)\n",
    "        else\n",
    "            return (1/(2*p)) * Etij_3te(t-1, i, j-1, Kαβx, XPA, XPB, α, β) +\n",
    "                         XPB * Etij_3te(t  , i, j-1, Kαβx, XPA, XPB, α, β) +\n",
    "                       (t+1) * Etij_3te(t+1, i, j-1, Kαβx, XPA, XPB, α, β)\n",
    "        end\n",
    "    elseif t == 4\n",
    "        if i == 2 && j == 2\n",
    "            return Kαβx/(16*p^4)\n",
    "        elseif i > 2\n",
    "            return (1/(2*p)) * Etij_3te(t-1, i-1, j, Kαβx, XPA, XPB, α, β) +\n",
    "                         XPA * Etij_3te(t  , i-1, j, Kαβx, XPA, XPB, α, β) +\n",
    "                       (t+1) * Etij_3te(t+1, i-1, j, Kαβx, XPA, XPB, α, β)\n",
    "        else\n",
    "            return (1/(2*p)) * Etij_3te(t-1, i, j-1, Kαβx, XPA, XPB, α, β) +\n",
    "                         XPB * Etij_3te(t  , i, j-1, Kαβx, XPA, XPB, α, β) +\n",
    "                       (t+1) * Etij_3te(t+1, i, j-1, Kαβx, XPA, XPB, α, β)\n",
    "        end\n",
    "    elseif t > 4\n",
    "        if i > 2\n",
    "            return (1/(2*p)) * Etij_3te(t-1, i-1, j, Kαβx, XPA, XPB, α, β) +\n",
    "                         XPA * Etij_3te(t  , i-1, j, Kαβx, XPA, XPB, α, β) +\n",
    "                       (t+1) * Etij_3te(t+1, i-1, j, Kαβx, XPA, XPB, α, β)\n",
    "        else\n",
    "            return (1/(2*p)) * Etij_3te(t-1, i, j-1, Kαβx, XPA, XPB, α, β) +\n",
    "                         XPB * Etij_3te(t  , i, j-1, Kαβx, XPA, XPB, α, β) +\n",
    "                       (t+1) * Etij_3te(t+1, i, j-1, Kαβx, XPA, XPB, α, β)\n",
    "        end\n",
    "    end\n",
    "end"
   ]
  },
  {
   "cell_type": "markdown",
   "metadata": {},
   "source": [
    "I know, I realize this implementation is considerbly more lengthy and cumbersome than the recursive one, but it will hopefully perform better.\n",
    "\n",
    "Let us have a look at what we have gained in terms of computational time.  \n",
    "In the following we will use the very handy [BenchmarkTools.jl](https://github.com/JuliaCI/BenchmarkTools.jl) package to measure performance. Just download it as any other package by issuing `Pkg.add(\"BenchmarkTools\")` in the REPL."
   ]
  },
  {
   "cell_type": "code",
   "execution_count": null,
   "metadata": {},
   "outputs": [],
   "source": [
    "# load the package\n",
    "using BenchmarkTools\n",
    "\n",
    "# define some random input variables\n",
    "α = 0.5\n",
    "β = 0.75\n",
    "μ = (α * β)/(α + β)\n",
    "_Ax = 0.0\n",
    "_Bx = 0.5\n",
    "Px = (_Ax*α + _Bx*β)/(α + β)\n",
    "XAB = _Ax-_Bx\n",
    "XPA = Px-_Ax\n",
    "XPB = Px-_Bx\n",
    "Kαβx = exp(-μ*XAB^2)\n",
    "\n",
    "# define some angular momenta\n",
    "i=1;j=2"
   ]
  },
  {
   "cell_type": "code",
   "execution_count": null,
   "metadata": {},
   "outputs": [],
   "source": [
    "# three-term recursive\n",
    "@benchmark for t = 0:i+j\n",
    "    Etij_3tr(t, $i, $j, $Kαβx, $XPA, $XPB, $α, $β)\n",
    "end"
   ]
  },
  {
   "cell_type": "code",
   "execution_count": null,
   "metadata": {},
   "outputs": [],
   "source": [
    "# three-term explicit\n",
    "@benchmark for t = 0:i+j\n",
    "    Etij_3te(t, $i, $j, $Kαβx, $XPA, $XPB, $α, $β)\n",
    "end"
   ]
  },
  {
   "cell_type": "code",
   "execution_count": null,
   "metadata": {},
   "outputs": [],
   "source": [
    "# two-term recursive\n",
    "@benchmark for t = 0:i+j\n",
    "    Etij(t, $i, $j, $Kαβx, $XPA, $XPB, $α, $β)\n",
    "end"
   ]
  },
  {
   "cell_type": "code",
   "execution_count": null,
   "metadata": {},
   "outputs": [],
   "source": [
    "using PyCall\n",
    "@pyimport scipy.special as ss\n",
    "\n",
    "# super slow\n",
    "function pyboys(n, x)\n",
    "    return ss.hyp1f1(n+0.5, n+1.5, -x) / (2.0*n+1.0)\n",
    "end\n",
    "\n",
    "# this should be correct, but seems a bad approximation\n",
    "function incgamma(n, x)\n",
    "    # only case we are going to use\n",
    "    assert(x>0 && x < n + 1.5)\n",
    "    \n",
    "    term = x^n * exp(-x) / n\n",
    "    incg = term\n",
    "    den = n\n",
    "    i = 1\n",
    "    maxiter = 100\n",
    "    tol = 1e-25\n",
    "    \n",
    "    while (abs(term) > tol && i < maxiter)\n",
    "        den += i\n",
    "        term *= (x / den)\n",
    "#         println(term)\n",
    "        incg += term\n",
    "        i += 1\n",
    "    end\n",
    "#     println(i)\n",
    "    return incg\n",
    "end\n",
    "\n",
    "# this is not working\n",
    "function myboys(n, x)\n",
    "    if x < n + 1.5\n",
    "        b = n + 0.5\n",
    "        if x < 1e-16\n",
    "            return 0.5/b\n",
    "        else\n",
    "            return sf_gamma_inc(b,x)/(2*x^b)\n",
    "#             return incgamma(b,x)/(2*x^b)\n",
    "        end\n",
    "    else\n",
    "        i = n\n",
    "        acc = 1.0\n",
    "        if n > 0\n",
    "            b = 0.5/x\n",
    "            emx = exp(-x)\n",
    "            while i > 0 \n",
    "                acc = b * ((2*i-1) * acc - emx)\n",
    "                i -= 1\n",
    "            end\n",
    "        end\n",
    "        return acc*sqrt(pi/(4*x))*erf(sqrt(x))\n",
    "     end\n",
    "end\n",
    "\n",
    "# this does not work either\n",
    "function myboys2(n::Int, x)\n",
    "    \n",
    "    f = Vector{Float64}(n+1)\n",
    "    \n",
    "    if x < n + 1.5\n",
    "        \n",
    "        b = n + 0.5\n",
    "        t = 1\n",
    "        s = 1\n",
    "        e = .5 * exp(-x)\n",
    "        \n",
    "        if x < 1e-16\n",
    "            f[n+1] = 0.5/b\n",
    "        else\n",
    "            i = 1\n",
    "            while t > 1e-16\n",
    "                t *= x / (b + i)\n",
    "                s += x\n",
    "                i += 1\n",
    "            end\n",
    "            \n",
    "            f[n+1] = e * s / b\n",
    "            \n",
    "            if (n > 0) \n",
    "                for i = n:-1:1\n",
    "                    b -= 1\n",
    "                    f[i] = (e + x * f[i+1]) / b\n",
    "                end\n",
    "            end\n",
    "        end\n",
    "    else\n",
    "        f[1] = sqrt(pi/(4*x))*erf(sqrt(x))\n",
    "        i = 1\n",
    "        if n > 0\n",
    "            b = 0.5/x\n",
    "            e = exp(-x)\n",
    "            while i <= n \n",
    "                f[i+1] = b* ( (2*i-1) * f[i] - e)\n",
    "                i += 1\n",
    "            end\n",
    "        end\n",
    "     end\n",
    "    return f\n",
    "end\n",
    "\n",
    "\n",
    "using SpecialFunctions\n",
    "\n",
    "# this only works for n >= 3//2\n",
    "function gamma_inc(n::Rational{Int}, x)\n",
    "    acc = sum([ x^(j+0.5)/( (j+0.5) * gamma(j+0.5)) for j = 0:n-3//2])\n",
    "    return gamma(n)*(erfc(sqrt(x)) + e^(-x) * acc )\n",
    "end"
   ]
  }
 ],
 "metadata": {
  "kernel_info": {
   "name": "julia-1.0"
  },
  "kernelspec": {
   "display_name": "Julia 1.3.1",
   "language": "julia",
   "name": "julia-1.3"
  },
  "language_info": {
   "file_extension": ".jl",
   "mimetype": "application/julia",
   "name": "julia",
   "version": "1.3.1"
  },
  "nteract": {
   "version": "0.12.3"
  }
 },
 "nbformat": 4,
 "nbformat_minor": 2
}
